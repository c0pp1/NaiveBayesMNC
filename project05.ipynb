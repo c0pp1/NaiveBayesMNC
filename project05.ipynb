{
 "cells": [
  {
   "cell_type": "markdown",
   "source": "# Naive Bayes classifier for Fake News recognition\nFake news are defined by the New York Times as *\"a made-up story with an intention to deceive\"*, with\nthe intent to confuse or deceive people. They are everywhere in our daily life, and come especially from\nsocial media platforms and applications in the online world. Being able to distinguish fake contents form\nreal news is today one of the most serious challenges facing the news industry.  \n\n[Naive Bayes classifiers][1] are powerful algorithms that are used for text data analysis and are connected\nto classification tasks of text in multiple classes.  \nThe goal of the project is to implement a __Multinomial Naive Bayes classifier__ in `R` and test its perfor-\nmances in the classification of social media posts.\nThe suggested data set is available on [Kaggle][2]\n\n[1]: https://nlp.stanford.edu/IR-book/pdf/13bayes.pdf \"C. D. Manning, Chapter 13, Text Classification and Naive Bayes, in Introduction to Information Retrieval, Cambridge University Press, 2008.\"\n[2]: https://www.kaggle.com/datasets/anmolkumar/fake-news-content-detection?select=train.csv",
   "metadata": {
    "cell_id": "6eb6f151-42ed-4d94-8d45-c7dfdf37d36b",
    "deepnote_to_be_reexecuted": false,
    "execution_millis": 0,
    "execution_start": 1656085400018,
    "source_hash": "66d083ce",
    "tags": [],
    "deepnote_cell_type": "markdown",
    "deepnote_cell_height": 343.125
   }
  },
  {
   "cell_type": "markdown",
   "source": "## Import useful libraries",
   "metadata": {
    "cell_id": "b7bbc4c407f14e33bdc2783a4db757a9",
    "tags": [],
    "deepnote_cell_type": "markdown",
    "deepnote_cell_height": 70
   }
  },
  {
   "cell_type": "code",
   "metadata": {
    "cell_id": "e65a712e7da74894ac221d5c9b477c43",
    "deepnote_to_be_reexecuted": false,
    "execution_millis": 4290,
    "execution_start": 1656252799032,
    "source_hash": "13bcac4e",
    "tags": [],
    "vscode": {
     "languageId": "r"
    },
    "deepnote_cell_type": "code",
    "deepnote_cell_height": 303.0625
   },
   "source": "library(tidyverse)",
   "execution_count": 1,
   "outputs": [
    {
     "name": "stderr",
     "text": "── \u001b[1mAttaching packages\u001b[22m ─────────────────────────────────────── tidyverse 1.3.1 ──\n\n\u001b[32m✔\u001b[39m \u001b[34mggplot2\u001b[39m 3.3.6     \u001b[32m✔\u001b[39m \u001b[34mpurrr  \u001b[39m 0.3.4\n\u001b[32m✔\u001b[39m \u001b[34mtibble \u001b[39m 3.1.7     \u001b[32m✔\u001b[39m \u001b[34mdplyr  \u001b[39m 1.0.9\n\u001b[32m✔\u001b[39m \u001b[34mtidyr  \u001b[39m 1.2.0     \u001b[32m✔\u001b[39m \u001b[34mstringr\u001b[39m 1.4.0\n\u001b[32m✔\u001b[39m \u001b[34mreadr  \u001b[39m 2.1.2     \u001b[32m✔\u001b[39m \u001b[34mforcats\u001b[39m 0.5.1\n\n── \u001b[1mConflicts\u001b[22m ────────────────────────────────────────── tidyverse_conflicts() ──\n\u001b[31m✖\u001b[39m \u001b[34mdplyr\u001b[39m::\u001b[32mfilter()\u001b[39m masks \u001b[34mstats\u001b[39m::filter()\n\u001b[31m✖\u001b[39m \u001b[34mdplyr\u001b[39m::\u001b[32mlag()\u001b[39m    masks \u001b[34mstats\u001b[39m::lag()\n\n",
     "output_type": "stream"
    }
   ]
  },
  {
   "cell_type": "markdown",
   "source": "## Import dataset",
   "metadata": {
    "cell_id": "3eb237f3f64842e4b4912cd338f628b8",
    "tags": [],
    "deepnote_cell_type": "markdown",
    "deepnote_cell_height": 70
   }
  },
  {
   "cell_type": "code",
   "metadata": {
    "cell_id": "cf90085d26784ed38c84996918ba9a9d",
    "deepnote_to_be_reexecuted": false,
    "execution_millis": 652,
    "execution_start": 1656252819715,
    "source_hash": "3026bddb",
    "tags": [],
    "vscode": {
     "languageId": "r"
    },
    "deepnote_cell_type": "code",
    "deepnote_cell_height": 562,
    "deepnote_output_heights": [
     393
    ]
   },
   "source": "df <- read_csv('NaiveBayesMNC/train_corrected.csv', col_types = 'icc')\nhead(df, 10)\n\nlabel_dict <- c('True', 'Not-Known', 'Mostly-True', 'Half-True', 'False', 'Barely-True')\nnames(label_dict) <- c('5', '4', '3', '2', '1', '0')",
   "execution_count": 2,
   "outputs": [
    {
     "data": {
      "text/html": "<table class=\"dataframe\">\n<caption>A tibble: 10 x 3</caption>\n<thead>\n\t<tr><th scope=col>Labels</th><th scope=col>Text</th><th scope=col>Text_Tag</th></tr>\n\t<tr><th scope=col>&lt;int&gt;</th><th scope=col>&lt;chr&gt;</th><th scope=col>&lt;chr&gt;</th></tr>\n</thead>\n<tbody>\n\t<tr><td>1</td><td>Says the Annies List political group supports third-trimester abortions on demand.                                                                             </td><td>abortion                                 </td></tr>\n\t<tr><td>2</td><td>When did the decline of coal start? It started when natural gas took off that started to begin in (President George W.) Bushs administration.                  </td><td>energy,history,job-accomplishments       </td></tr>\n\t<tr><td>3</td><td>Hillary Clinton agrees with John McCain \"by voting to give George Bush the benefit of the doubt on Iran.\"                                                      </td><td>foreign-policy                           </td></tr>\n\t<tr><td>1</td><td>Health care reform legislation is likely to mandate free sex change surgeries.                                                                                 </td><td>health-care                              </td></tr>\n\t<tr><td>2</td><td>The economic turnaround started at the end of my term.                                                                                                         </td><td>economy,jobs                             </td></tr>\n\t<tr><td>5</td><td>The Chicago Bears have had more starting quarterbacks in the last 10 years than the total number of tenured (UW) faculty fired during the last two decades.    </td><td>education                                </td></tr>\n\t<tr><td>0</td><td>Jim Dunnam has not lived in the district he represents for years now.                                                                                          </td><td>candidates-biography                     </td></tr>\n\t<tr><td>2</td><td>I'm the only person on this stage who has worked actively just last year passing, along with Russ Feingold, some of the toughest ethics reform since Watergate.</td><td>ethics                                   </td></tr>\n\t<tr><td>2</td><td>However, it took $19.5 million in Oregon Lottery funds for the Port of Newport to eventually land the new NOAA Marine Operations Center-Pacific.               </td><td>jobs                                     </td></tr>\n\t<tr><td>3</td><td>Says GOP primary opponents Glenn Grothman and Joe Leibham cast a compromise vote that cost $788 million in higher electricity costs.                           </td><td>energy,message-machine-2014,voting-record</td></tr>\n</tbody>\n</table>\n",
      "text/markdown": "\nA tibble: 10 x 3\n\n| Labels &lt;int&gt; | Text &lt;chr&gt; | Text_Tag &lt;chr&gt; |\n|---|---|---|\n| 1 | Says the Annies List political group supports third-trimester abortions on demand.                                                                              | abortion                                  |\n| 2 | When did the decline of coal start? It started when natural gas took off that started to begin in (President George W.) Bushs administration.                   | energy,history,job-accomplishments        |\n| 3 | Hillary Clinton agrees with John McCain \"by voting to give George Bush the benefit of the doubt on Iran.\"                                                       | foreign-policy                            |\n| 1 | Health care reform legislation is likely to mandate free sex change surgeries.                                                                                  | health-care                               |\n| 2 | The economic turnaround started at the end of my term.                                                                                                          | economy,jobs                              |\n| 5 | The Chicago Bears have had more starting quarterbacks in the last 10 years than the total number of tenured (UW) faculty fired during the last two decades.     | education                                 |\n| 0 | Jim Dunnam has not lived in the district he represents for years now.                                                                                           | candidates-biography                      |\n| 2 | I'm the only person on this stage who has worked actively just last year passing, along with Russ Feingold, some of the toughest ethics reform since Watergate. | ethics                                    |\n| 2 | However, it took $19.5 million in Oregon Lottery funds for the Port of Newport to eventually land the new NOAA Marine Operations Center-Pacific.                | jobs                                      |\n| 3 | Says GOP primary opponents Glenn Grothman and Joe Leibham cast a compromise vote that cost $788 million in higher electricity costs.                            | energy,message-machine-2014,voting-record |\n\n",
      "text/latex": "A tibble: 10 x 3\n\\begin{tabular}{lll}\n Labels & Text & Text\\_Tag\\\\\n <int> & <chr> & <chr>\\\\\n\\hline\n\t 1 & Says the Annies List political group supports third-trimester abortions on demand.                                                                              & abortion                                 \\\\\n\t 2 & When did the decline of coal start? It started when natural gas took off that started to begin in (President George W.) Bushs administration.                   & energy,history,job-accomplishments       \\\\\n\t 3 & Hillary Clinton agrees with John McCain \"by voting to give George Bush the benefit of the doubt on Iran.\"                                                       & foreign-policy                           \\\\\n\t 1 & Health care reform legislation is likely to mandate free sex change surgeries.                                                                                  & health-care                              \\\\\n\t 2 & The economic turnaround started at the end of my term.                                                                                                          & economy,jobs                             \\\\\n\t 5 & The Chicago Bears have had more starting quarterbacks in the last 10 years than the total number of tenured (UW) faculty fired during the last two decades.     & education                                \\\\\n\t 0 & Jim Dunnam has not lived in the district he represents for years now.                                                                                           & candidates-biography                     \\\\\n\t 2 & I'm the only person on this stage who has worked actively just last year passing, along with Russ Feingold, some of the toughest ethics reform since Watergate. & ethics                                   \\\\\n\t 2 & However, it took \\$19.5 million in Oregon Lottery funds for the Port of Newport to eventually land the new NOAA Marine Operations Center-Pacific.                & jobs                                     \\\\\n\t 3 & Says GOP primary opponents Glenn Grothman and Joe Leibham cast a compromise vote that cost \\$788 million in higher electricity costs.                            & energy,message-machine-2014,voting-record\\\\\n\\end{tabular}\n",
      "text/plain": "   Labels\n1  1     \n2  2     \n3  3     \n4  1     \n5  2     \n6  5     \n7  0     \n8  2     \n9  2     \n10 3     \n   Text                                                                                                                                                           \n1  Says the Annies List political group supports third-trimester abortions on demand.                                                                             \n2  When did the decline of coal start? It started when natural gas took off that started to begin in (President George W.) Bushs administration.                  \n3  Hillary Clinton agrees with John McCain \"by voting to give George Bush the benefit of the doubt on Iran.\"                                                      \n4  Health care reform legislation is likely to mandate free sex change surgeries.                                                                                 \n5  The economic turnaround started at the end of my term.                                                                                                         \n6  The Chicago Bears have had more starting quarterbacks in the last 10 years than the total number of tenured (UW) faculty fired during the last two decades.    \n7  Jim Dunnam has not lived in the district he represents for years now.                                                                                          \n8  I'm the only person on this stage who has worked actively just last year passing, along with Russ Feingold, some of the toughest ethics reform since Watergate.\n9  However, it took $19.5 million in Oregon Lottery funds for the Port of Newport to eventually land the new NOAA Marine Operations Center-Pacific.               \n10 Says GOP primary opponents Glenn Grothman and Joe Leibham cast a compromise vote that cost $788 million in higher electricity costs.                           \n   Text_Tag                                 \n1  abortion                                 \n2  energy,history,job-accomplishments       \n3  foreign-policy                           \n4  health-care                              \n5  economy,jobs                             \n6  education                                \n7  candidates-biography                     \n8  ethics                                   \n9  jobs                                     \n10 energy,message-machine-2014,voting-record"
     },
     "metadata": {},
     "output_type": "display_data"
    }
   ]
  },
  {
   "cell_type": "markdown",
   "source": "## Multinomial NB classifier implementation",
   "metadata": {
    "cell_id": "fe175de47af84c4ebf45848a752f63f9",
    "tags": [],
    "deepnote_cell_type": "markdown",
    "deepnote_cell_height": 70
   }
  },
  {
   "cell_type": "code",
   "metadata": {
    "vscode": {
     "languageId": "r"
    },
    "cell_id": "00006-8edfd544-25f4-4b95-bb44-4fa716103a63",
    "deepnote_to_be_reexecuted": false,
    "source_hash": "7f7a546a",
    "execution_start": 1656255747786,
    "execution_millis": 10,
    "deepnote_cell_type": "code",
    "deepnote_cell_height": 297
   },
   "source": "confusion_matrix <- function( predictions, true_labels) {\n    confusion_matrix <- matrix(rep(0, length(unique(true_labels))^2), ncol=length(unique(true_labels)))\n    colnames(confusion_matrix) <- paste('t', label_dict, sep='_')\n    rownames(confusion_matrix) <- paste('p', label_dict, sep='_')\n\n    for(j in 1:ncol(confusion_matrix)) {\n        for( i in 1:nrow(confusion_matrix)){\n            confusion_matrix[i,j] <- sum(predictions==names(label_dict)[i] & true_labels==names(label_dict)[j])\n        }    \n    }\n\n    return(confusion_matrix/length(predictions))\n}",
   "execution_count": 95,
   "outputs": []
  },
  {
   "cell_type": "code",
   "source": "accuracy <- function(predictions, true_labels) {\n    predictions <- as.numeric(predictions)\n    true_labels <- as.numeric(true_labels)\n    sum(predictions==true_labels) / length(predictions)\n}",
   "metadata": {
    "cell_id": "8be779e40f684c68860aeb45414fda61",
    "tags": [],
    "deepnote_to_be_reexecuted": false,
    "source_hash": "44414fc6",
    "execution_start": 1656255319485,
    "execution_millis": 0,
    "deepnote_cell_type": "code",
    "deepnote_cell_height": 153,
    "deepnote_output_heights": [
     21.1875
    ]
   },
   "outputs": [],
   "execution_count": 74
  },
  {
   "cell_type": "code",
   "metadata": {
    "cell_id": "4913f59c4c664822a33ca82bb616a974",
    "deepnote_to_be_reexecuted": false,
    "execution_millis": 141,
    "execution_start": 1656252823174,
    "source_hash": "cd79982f",
    "tags": [],
    "vscode": {
     "languageId": "r"
    },
    "deepnote_cell_type": "code",
    "deepnote_cell_height": 225
   },
   "source": "extract_vocabulary <- function(documents, unique=TRUE) {\n    words <- str_replace_all(documents, \"[:punct:]|[$]|[+]|[\\u0090]\", \" \")\n    words <- unlist(str_split(words, '[ ]|[\\n]|[\\t]'))\n    words <- words[words!='']\n    words <- casefold(words, upper = FALSE)\n    words <- str_replace(words, \"[:digit:]+\", \"isnumeric\")\n    if(unique) return(unique(words))\n    else return(words)\n}",
   "execution_count": 4,
   "outputs": []
  },
  {
   "cell_type": "code",
   "metadata": {
    "cell_id": "c980fd83928b40c9a9f359bc803fcb83",
    "tags": [],
    "deepnote_to_be_reexecuted": false,
    "source_hash": "d03ace87",
    "execution_start": 1656264177665,
    "execution_millis": 1,
    "deepnote_cell_type": "code",
    "deepnote_cell_height": 405
   },
   "source": "extract_alnum <- function(documents, unique=TRUE, filter_n=0, freq_n = 0) {\n    words <- str_replace_all(documents, \"[:digit:]+[.,]*[:digit:]*\", \"isnumeric\")\n    words <- unlist(str_extract_all(words, \"[:alnum:]+\"))\n    words <- words[words!='']\n    words <- casefold(words, upper = FALSE)\n    words <- words[!is.na(words)]\n    if(filter_n){\n        words <- words[nchar(words)>filter_n]\n    }\n\n    if(freq_n){\n        freq <- table(words)\n        words <- names(freq)[freq<freq_n]\n    }\n\n    if(unique) return(unique(words))\n    else return(words)\n\n}",
   "execution_count": 266,
   "outputs": []
  },
  {
   "cell_type": "code",
   "metadata": {
    "cell_id": "e73227cbe532453b9e41ce5397c7bfe6",
    "tags": [],
    "deepnote_to_be_reexecuted": false,
    "source_hash": "9c36ec15",
    "execution_start": 1656256926806,
    "execution_millis": 18,
    "deepnote_cell_type": "code",
    "deepnote_cell_height": 135,
    "deepnote_output_heights": [
     2,
     21.1875,
     21.1875
    ]
   },
   "source": "c <- extract_alnum(df[1,2],filter_n=0, freq_n=1)\ncc <- extract_alnum(df[1,2])\nc",
   "execution_count": 127,
   "outputs": [
    {
     "data": {
      "text/html": "",
      "text/markdown": "",
      "text/latex": "",
      "text/plain": "character(0)"
     },
     "metadata": {},
     "output_type": "display_data"
    }
   ]
  },
  {
   "cell_type": "code",
   "source": "head(df[df$Labels==0,]$Text)",
   "metadata": {
    "cell_id": "bd993a8583654ab1952af6b9ed92cf3b",
    "tags": [],
    "deepnote_to_be_reexecuted": false,
    "source_hash": "5cd2b787",
    "execution_start": 1656263051699,
    "execution_millis": 12,
    "deepnote_cell_type": "code",
    "deepnote_cell_height": 252.5,
    "deepnote_output_heights": [
     155.5
    ]
   },
   "outputs": [
    {
     "data": {
      "text/html": "<style>\n.list-inline {list-style: none; margin:0; padding: 0}\n.list-inline>li {display: inline-block}\n.list-inline>li:not(:last-child)::after {content: \"\\00b7\"; padding: 0 .5ex}\n</style>\n<ol class=list-inline><li>'Jim Dunnam has not lived in the district he represents for years now.'</li><li>'Most of the (Affordable Care Act) has already in some sense been waived or otherwise suspended.'</li><li>'U.S. Rep. Ron Kind, D-Wis., and his fellow Democrats went on a spending spree and now their credit card is maxed out'</li><li>'Says Mitt Romney wants to get rid of Planned Parenthood.'</li><li>'If you look at states that are right to work, they constantly do not have budget deficits and they have very good business climates.'</li><li>'Says the paperback edition of Mitt Romneys book deleted line that Massachusetts individual mandate should be the model for the country'</li></ol>\n",
      "text/markdown": "1. 'Jim Dunnam has not lived in the district he represents for years now.'\n2. 'Most of the (Affordable Care Act) has already in some sense been waived or otherwise suspended.'\n3. 'U.S. Rep. Ron Kind, D-Wis., and his fellow Democrats went on a spending spree and now their credit card is maxed out'\n4. 'Says Mitt Romney wants to get rid of Planned Parenthood.'\n5. 'If you look at states that are right to work, they constantly do not have budget deficits and they have very good business climates.'\n6. 'Says the paperback edition of Mitt Romneys book deleted line that Massachusetts individual mandate should be the model for the country'\n\n\n",
      "text/latex": "\\begin{enumerate*}\n\\item 'Jim Dunnam has not lived in the district he represents for years now.'\n\\item 'Most of the (Affordable Care Act) has already in some sense been waived or otherwise suspended.'\n\\item 'U.S. Rep. Ron Kind, D-Wis., and his fellow Democrats went on a spending spree and now their credit card is maxed out'\n\\item 'Says Mitt Romney wants to get rid of Planned Parenthood.'\n\\item 'If you look at states that are right to work, they constantly do not have budget deficits and they have very good business climates.'\n\\item 'Says the paperback edition of Mitt Romneys book deleted line that Massachusetts individual mandate should be the model for the country'\n\\end{enumerate*}\n",
      "text/plain": "[1] \"Jim Dunnam has not lived in the district he represents for years now.\"                                                                 \n[2] \"Most of the (Affordable Care Act) has already in some sense been waived or otherwise suspended.\"                                       \n[3] \"U.S. Rep. Ron Kind, D-Wis., and his fellow Democrats went on a spending spree and now their credit card is maxed out\"                  \n[4] \"Says Mitt Romney wants to get rid of Planned Parenthood.\"                                                                              \n[5] \"If you look at states that are right to work, they constantly do not have budget deficits and they have very good business climates.\"  \n[6] \"Says the paperback edition of Mitt Romneys book deleted line that Massachusetts individual mandate should be the model for the country\""
     },
     "metadata": {},
     "output_type": "display_data"
    }
   ],
   "execution_count": 232
  },
  {
   "cell_type": "code",
   "source": "words <- extract_alnum(df[df$Labels==0,2][[1]],unique=FALSE)\nfrase1 <- \"Ciao sono Pietro e ho 23 anni\"\nfrase1 <- casefold(frase, upper = FALSE)\n\nfrasi <- c(\"ciao sono Pietro\",\"Pietro mi chiamo\",\"non mi chiamo Alberto\")\ngrepl(\"pietro\",frasi)\ncasefold(frasi, upper=FALSE)\n\nunique(df$Labels)",
   "metadata": {
    "cell_id": "7b7287299fed4c58bcc4cbc3e98ca0a0",
    "tags": [],
    "deepnote_to_be_reexecuted": false,
    "source_hash": "1cb24ab3",
    "execution_start": 1656263302661,
    "execution_millis": 18,
    "deepnote_cell_type": "code",
    "deepnote_cell_height": 366.5625,
    "deepnote_output_heights": [
     21.1875,
     21.1875,
     21.1875,
     2
    ]
   },
   "outputs": [
    {
     "data": {
      "text/html": "<style>\n.list-inline {list-style: none; margin:0; padding: 0}\n.list-inline>li {display: inline-block}\n.list-inline>li:not(:last-child)::after {content: \"\\00b7\"; padding: 0 .5ex}\n</style>\n<ol class=list-inline><li>FALSE</li><li>FALSE</li><li>FALSE</li></ol>\n",
      "text/markdown": "1. FALSE\n2. FALSE\n3. FALSE\n\n\n",
      "text/latex": "\\begin{enumerate*}\n\\item FALSE\n\\item FALSE\n\\item FALSE\n\\end{enumerate*}\n",
      "text/plain": "[1] FALSE FALSE FALSE"
     },
     "metadata": {},
     "output_type": "display_data"
    },
    {
     "data": {
      "text/html": "<style>\n.list-inline {list-style: none; margin:0; padding: 0}\n.list-inline>li {display: inline-block}\n.list-inline>li:not(:last-child)::after {content: \"\\00b7\"; padding: 0 .5ex}\n</style>\n<ol class=list-inline><li>'ciao sono pietro'</li><li>'pietro mi chiamo'</li><li>'non mi chiamo alberto'</li></ol>\n",
      "text/markdown": "1. 'ciao sono pietro'\n2. 'pietro mi chiamo'\n3. 'non mi chiamo alberto'\n\n\n",
      "text/latex": "\\begin{enumerate*}\n\\item 'ciao sono pietro'\n\\item 'pietro mi chiamo'\n\\item 'non mi chiamo alberto'\n\\end{enumerate*}\n",
      "text/plain": "[1] \"ciao sono pietro\"      \"pietro mi chiamo\"      \"non mi chiamo alberto\""
     },
     "metadata": {},
     "output_type": "display_data"
    },
    {
     "data": {
      "text/html": "<style>\n.list-inline {list-style: none; margin:0; padding: 0}\n.list-inline>li {display: inline-block}\n.list-inline>li:not(:last-child)::after {content: \"\\00b7\"; padding: 0 .5ex}\n</style>\n<ol class=list-inline><li>1</li><li>2</li><li>3</li><li>5</li><li>0</li><li>4</li></ol>\n",
      "text/markdown": "1. 1\n2. 2\n3. 3\n4. 5\n5. 0\n6. 4\n\n\n",
      "text/latex": "\\begin{enumerate*}\n\\item 1\n\\item 2\n\\item 3\n\\item 5\n\\item 0\n\\item 4\n\\end{enumerate*}\n",
      "text/plain": "[1] 1 2 3 5 0 4"
     },
     "metadata": {},
     "output_type": "display_data"
    }
   ],
   "execution_count": 236
  },
  {
   "cell_type": "code",
   "source": "N_10 <- c(\"not0\",\"not1\",\"not2\",\"not3\",\"not4\",\"not5\")\ncol <- c(sort(unique(df$Labels)), N_10)\ncol",
   "metadata": {
    "cell_id": "bb6d8176488a4c518cee28b8a1d372e8",
    "tags": [],
    "deepnote_to_be_reexecuted": false,
    "source_hash": "fee35e32",
    "execution_start": 1656265495495,
    "execution_millis": 825,
    "deepnote_cell_type": "code",
    "deepnote_cell_height": 154.1875,
    "deepnote_output_heights": [
     21.1875
    ]
   },
   "outputs": [
    {
     "data": {
      "text/html": "<style>\n.list-inline {list-style: none; margin:0; padding: 0}\n.list-inline>li {display: inline-block}\n.list-inline>li:not(:last-child)::after {content: \"\\00b7\"; padding: 0 .5ex}\n</style>\n<ol class=list-inline><li>'0'</li><li>'1'</li><li>'2'</li><li>'3'</li><li>'4'</li><li>'5'</li><li>'not0'</li><li>'not1'</li><li>'not2'</li><li>'not3'</li><li>'not4'</li><li>'not5'</li></ol>\n",
      "text/markdown": "1. '0'\n2. '1'\n3. '2'\n4. '3'\n5. '4'\n6. '5'\n7. 'not0'\n8. 'not1'\n9. 'not2'\n10. 'not3'\n11. 'not4'\n12. 'not5'\n\n\n",
      "text/latex": "\\begin{enumerate*}\n\\item '0'\n\\item '1'\n\\item '2'\n\\item '3'\n\\item '4'\n\\item '5'\n\\item 'not0'\n\\item 'not1'\n\\item 'not2'\n\\item 'not3'\n\\item 'not4'\n\\item 'not5'\n\\end{enumerate*}\n",
      "text/plain": " [1] \"0\"    \"1\"    \"2\"    \"3\"    \"4\"    \"5\"    \"not0\" \"not1\" \"not2\" \"not3\"\n[11] \"not4\" \"not5\""
     },
     "metadata": {},
     "output_type": "display_data"
    }
   ],
   "execution_count": 290
  },
  {
   "cell_type": "code",
   "source": "words_df <- data.frame(matrix(nrow=length(voc),ncol=(length(col))),row.names=voc)\ncolnames(words_df) <- col\nhead(words_df)",
   "metadata": {
    "cell_id": "4814ec7370f248b382c6297ed0c33fd4",
    "tags": [],
    "deepnote_to_be_reexecuted": false,
    "source_hash": "2528a936",
    "execution_start": 1656265381825,
    "execution_millis": 32,
    "deepnote_cell_type": "code",
    "deepnote_cell_height": 410,
    "deepnote_output_heights": [
     277
    ]
   },
   "outputs": [
    {
     "data": {
      "text/html": "<table class=\"dataframe\">\n<caption>A data.frame: 6 x 12</caption>\n<thead>\n\t<tr><th></th><th scope=col>0</th><th scope=col>1</th><th scope=col>2</th><th scope=col>3</th><th scope=col>4</th><th scope=col>5</th><th scope=col>not0</th><th scope=col>not1</th><th scope=col>not2</th><th scope=col>not3</th><th scope=col>not4</th><th scope=col>not5</th></tr>\n\t<tr><th></th><th scope=col>&lt;lgl&gt;</th><th scope=col>&lt;lgl&gt;</th><th scope=col>&lt;lgl&gt;</th><th scope=col>&lt;lgl&gt;</th><th scope=col>&lt;lgl&gt;</th><th scope=col>&lt;lgl&gt;</th><th scope=col>&lt;lgl&gt;</th><th scope=col>&lt;lgl&gt;</th><th scope=col>&lt;lgl&gt;</th><th scope=col>&lt;lgl&gt;</th><th scope=col>&lt;lgl&gt;</th><th scope=col>&lt;lgl&gt;</th></tr>\n</thead>\n<tbody>\n\t<tr><th scope=row>says</th><td>NA</td><td>NA</td><td>NA</td><td>NA</td><td>NA</td><td>NA</td><td>NA</td><td>NA</td><td>NA</td><td>NA</td><td>NA</td><td>NA</td></tr>\n\t<tr><th scope=row>the</th><td>NA</td><td>NA</td><td>NA</td><td>NA</td><td>NA</td><td>NA</td><td>NA</td><td>NA</td><td>NA</td><td>NA</td><td>NA</td><td>NA</td></tr>\n\t<tr><th scope=row>annies</th><td>NA</td><td>NA</td><td>NA</td><td>NA</td><td>NA</td><td>NA</td><td>NA</td><td>NA</td><td>NA</td><td>NA</td><td>NA</td><td>NA</td></tr>\n\t<tr><th scope=row>list</th><td>NA</td><td>NA</td><td>NA</td><td>NA</td><td>NA</td><td>NA</td><td>NA</td><td>NA</td><td>NA</td><td>NA</td><td>NA</td><td>NA</td></tr>\n\t<tr><th scope=row>political</th><td>NA</td><td>NA</td><td>NA</td><td>NA</td><td>NA</td><td>NA</td><td>NA</td><td>NA</td><td>NA</td><td>NA</td><td>NA</td><td>NA</td></tr>\n\t<tr><th scope=row>group</th><td>NA</td><td>NA</td><td>NA</td><td>NA</td><td>NA</td><td>NA</td><td>NA</td><td>NA</td><td>NA</td><td>NA</td><td>NA</td><td>NA</td></tr>\n</tbody>\n</table>\n",
      "text/markdown": "\nA data.frame: 6 x 12\n\n| <!--/--> | 0 &lt;lgl&gt; | 1 &lt;lgl&gt; | 2 &lt;lgl&gt; | 3 &lt;lgl&gt; | 4 &lt;lgl&gt; | 5 &lt;lgl&gt; | not0 &lt;lgl&gt; | not1 &lt;lgl&gt; | not2 &lt;lgl&gt; | not3 &lt;lgl&gt; | not4 &lt;lgl&gt; | not5 &lt;lgl&gt; |\n|---|---|---|---|---|---|---|---|---|---|---|---|---|\n| says | NA | NA | NA | NA | NA | NA | NA | NA | NA | NA | NA | NA |\n| the | NA | NA | NA | NA | NA | NA | NA | NA | NA | NA | NA | NA |\n| annies | NA | NA | NA | NA | NA | NA | NA | NA | NA | NA | NA | NA |\n| list | NA | NA | NA | NA | NA | NA | NA | NA | NA | NA | NA | NA |\n| political | NA | NA | NA | NA | NA | NA | NA | NA | NA | NA | NA | NA |\n| group | NA | NA | NA | NA | NA | NA | NA | NA | NA | NA | NA | NA |\n\n",
      "text/latex": "A data.frame: 6 x 12\n\\begin{tabular}{r|llllllllllll}\n  & 0 & 1 & 2 & 3 & 4 & 5 & not0 & not1 & not2 & not3 & not4 & not5\\\\\n  & <lgl> & <lgl> & <lgl> & <lgl> & <lgl> & <lgl> & <lgl> & <lgl> & <lgl> & <lgl> & <lgl> & <lgl>\\\\\n\\hline\n\tsays & NA & NA & NA & NA & NA & NA & NA & NA & NA & NA & NA & NA\\\\\n\tthe & NA & NA & NA & NA & NA & NA & NA & NA & NA & NA & NA & NA\\\\\n\tannies & NA & NA & NA & NA & NA & NA & NA & NA & NA & NA & NA & NA\\\\\n\tlist & NA & NA & NA & NA & NA & NA & NA & NA & NA & NA & NA & NA\\\\\n\tpolitical & NA & NA & NA & NA & NA & NA & NA & NA & NA & NA & NA & NA\\\\\n\tgroup & NA & NA & NA & NA & NA & NA & NA & NA & NA & NA & NA & NA\\\\\n\\end{tabular}\n",
      "text/plain": "          0  1  2  3  4  5  not0 not1 not2 not3 not4 not5\nsays      NA NA NA NA NA NA NA   NA   NA   NA   NA   NA  \nthe       NA NA NA NA NA NA NA   NA   NA   NA   NA   NA  \nannies    NA NA NA NA NA NA NA   NA   NA   NA   NA   NA  \nlist      NA NA NA NA NA NA NA   NA   NA   NA   NA   NA  \npolitical NA NA NA NA NA NA NA   NA   NA   NA   NA   NA  \ngroup     NA NA NA NA NA NA NA   NA   NA   NA   NA   NA  "
     },
     "metadata": {},
     "output_type": "display_data"
    }
   ],
   "execution_count": 287
  },
  {
   "cell_type": "code",
   "source": "for (word in voc[1:10]){\n    for (l in unique(df$Labels)){\n        #aggiungo al elemento [word,l] il numero di documenti con label l che contengono word\n        words_df[word,as.character(l)] <- sum(grepl(word,casefold(df$Text[df$Labels==l])))   \n    }\n    for (i in seq_along(N_10)){\n        words_df[word,N_10[i]] <- sum(words_df[word,][-c(i,7:12)],na.rm=TRUE)\n    }\n}",
   "metadata": {
    "cell_id": "62ce4ac408684744b16390d7c603b6c6",
    "tags": [],
    "deepnote_to_be_reexecuted": false,
    "source_hash": "29ce4bc6",
    "execution_start": 1656265866436,
    "execution_millis": 466,
    "deepnote_cell_type": "code",
    "deepnote_cell_height": 225
   },
   "outputs": [],
   "execution_count": 307
  },
  {
   "cell_type": "code",
   "source": "words_df",
   "metadata": {
    "cell_id": "3a895938b4bc4db2bf457f7a0ff9f51e",
    "tags": [],
    "deepnote_to_be_reexecuted": false,
    "source_hash": "a9f6044d",
    "execution_start": 1656265871358,
    "execution_millis": 122,
    "deepnote_cell_type": "code",
    "deepnote_cell_height": 704,
    "deepnote_output_heights": [
     607
    ]
   },
   "outputs": [
    {
     "data": {
      "text/html": "<table class=\"dataframe\">\n<caption>A data.frame: 11624 x 12</caption>\n<thead>\n\t<tr><th></th><th scope=col>0</th><th scope=col>1</th><th scope=col>2</th><th scope=col>3</th><th scope=col>4</th><th scope=col>5</th><th scope=col>not0</th><th scope=col>not1</th><th scope=col>not2</th><th scope=col>not3</th><th scope=col>not4</th><th scope=col>not5</th></tr>\n\t<tr><th></th><th scope=col>&lt;int&gt;</th><th scope=col>&lt;int&gt;</th><th scope=col>&lt;int&gt;</th><th scope=col>&lt;int&gt;</th><th scope=col>&lt;int&gt;</th><th scope=col>&lt;int&gt;</th><th scope=col>&lt;int&gt;</th><th scope=col>&lt;int&gt;</th><th scope=col>&lt;int&gt;</th><th scope=col>&lt;int&gt;</th><th scope=col>&lt;int&gt;</th><th scope=col>&lt;int&gt;</th></tr>\n</thead>\n<tbody>\n\t<tr><th scope=row>says</th><td> 455</td><td> 479</td><td> 492</td><td> 405</td><td>233</td><td> 322</td><td>1931</td><td>1907</td><td>1894</td><td>1981</td><td>2153</td><td>2064</td></tr>\n\t<tr><th scope=row>the</th><td>1078</td><td>1324</td><td>1451</td><td>1335</td><td>525</td><td>1173</td><td>5808</td><td>5562</td><td>5435</td><td>5551</td><td>6361</td><td>5713</td></tr>\n\t<tr><th scope=row>annies</th><td>   0</td><td>   1</td><td>   0</td><td>   0</td><td>  0</td><td>   0</td><td>   1</td><td>   0</td><td>   1</td><td>   1</td><td>   1</td><td>   1</td></tr>\n\t<tr><th scope=row>list</th><td>  13</td><td>   9</td><td>  10</td><td>   6</td><td> 13</td><td>  12</td><td>  50</td><td>  54</td><td>  53</td><td>  57</td><td>  50</td><td>  51</td></tr>\n\t<tr><th scope=row>political</th><td>   5</td><td>  12</td><td>  10</td><td>  11</td><td>  2</td><td>   9</td><td>  44</td><td>  37</td><td>  39</td><td>  38</td><td>  47</td><td>  40</td></tr>\n\t<tr><th scope=row>group</th><td>  17</td><td>  14</td><td>   9</td><td>   4</td><td> 12</td><td>   4</td><td>  43</td><td>  46</td><td>  51</td><td>  56</td><td>  48</td><td>  56</td></tr>\n\t<tr><th scope=row>supports</th><td>  24</td><td>  12</td><td>  14</td><td>   8</td><td>  7</td><td>   5</td><td>  46</td><td>  58</td><td>  56</td><td>  62</td><td>  63</td><td>  65</td></tr>\n\t<tr><th scope=row>third</th><td>  12</td><td>  14</td><td>  17</td><td>  26</td><td>  2</td><td>  15</td><td>  74</td><td>  72</td><td>  69</td><td>  60</td><td>  84</td><td>  71</td></tr>\n\t<tr><th scope=row>trimester</th><td>   0</td><td>   2</td><td>   0</td><td>   0</td><td>  0</td><td>   0</td><td>   2</td><td>   0</td><td>   2</td><td>   2</td><td>   2</td><td>   2</td></tr>\n\t<tr><th scope=row>abortions</th><td>   6</td><td>  15</td><td>  11</td><td>   2</td><td>  4</td><td>   5</td><td>  37</td><td>  28</td><td>  32</td><td>  41</td><td>  39</td><td>  38</td></tr>\n\t<tr><th scope=row>on</th><td>1105</td><td>1360</td><td>1462</td><td>1344</td><td>532</td><td>1127</td><td>  NA</td><td>  NA</td><td>  NA</td><td>  NA</td><td>  NA</td><td>  NA</td></tr>\n\t<tr><th scope=row>demand</th><td>   4</td><td>   6</td><td>   1</td><td>   3</td><td>  1</td><td>   4</td><td>  NA</td><td>  NA</td><td>  NA</td><td>  NA</td><td>  NA</td><td>  NA</td></tr>\n\t<tr><th scope=row>when</th><td>  57</td><td>  72</td><td>  92</td><td>  84</td><td> 26</td><td>  65</td><td>  NA</td><td>  NA</td><td>  NA</td><td>  NA</td><td>  NA</td><td>  NA</td></tr>\n\t<tr><th scope=row>did</th><td>  71</td><td>  85</td><td>  69</td><td>  76</td><td> 32</td><td>  69</td><td>  NA</td><td>  NA</td><td>  NA</td><td>  NA</td><td>  NA</td><td>  NA</td></tr>\n\t<tr><th scope=row>decline</th><td>   1</td><td>   1</td><td>   8</td><td>   5</td><td>  0</td><td>   2</td><td>  NA</td><td>  NA</td><td>  NA</td><td>  NA</td><td>  NA</td><td>  NA</td></tr>\n\t<tr><th scope=row>of</th><td> 619</td><td> 710</td><td> 895</td><td> 871</td><td>296</td><td> 767</td><td>  NA</td><td>  NA</td><td>  NA</td><td>  NA</td><td>  NA</td><td>  NA</td></tr>\n\t<tr><th scope=row>coal</th><td>   7</td><td>   5</td><td>   4</td><td>   6</td><td>  0</td><td>   4</td><td>  NA</td><td>  NA</td><td>  NA</td><td>  NA</td><td>  NA</td><td>  NA</td></tr>\n\t<tr><th scope=row>start</th><td>  10</td><td>  11</td><td>  26</td><td>  17</td><td>  6</td><td>  16</td><td>  NA</td><td>  NA</td><td>  NA</td><td>  NA</td><td>  NA</td><td>  NA</td></tr>\n\t<tr><th scope=row>it</th><td> 665</td><td> 763</td><td> 873</td><td> 791</td><td>334</td><td> 652</td><td>  NA</td><td>  NA</td><td>  NA</td><td>  NA</td><td>  NA</td><td>  NA</td></tr>\n\t<tr><th scope=row>started</th><td>   5</td><td>   8</td><td>  14</td><td>   6</td><td>  4</td><td>   5</td><td>  NA</td><td>  NA</td><td>  NA</td><td>  NA</td><td>  NA</td><td>  NA</td></tr>\n\t<tr><th scope=row>natural</th><td>   3</td><td>   4</td><td>   5</td><td>   4</td><td>  1</td><td>   3</td><td>  NA</td><td>  NA</td><td>  NA</td><td>  NA</td><td>  NA</td><td>  NA</td></tr>\n\t<tr><th scope=row>gas</th><td>  15</td><td>  22</td><td>  26</td><td>  19</td><td>  5</td><td>  20</td><td>  NA</td><td>  NA</td><td>  NA</td><td>  NA</td><td>  NA</td><td>  NA</td></tr>\n\t<tr><th scope=row>took</th><td>  35</td><td>  21</td><td>  36</td><td>  32</td><td>  7</td><td>  18</td><td>  NA</td><td>  NA</td><td>  NA</td><td>  NA</td><td>  NA</td><td>  NA</td></tr>\n\t<tr><th scope=row>off</th><td> 107</td><td>  86</td><td> 109</td><td>  90</td><td> 34</td><td>  97</td><td>  NA</td><td>  NA</td><td>  NA</td><td>  NA</td><td>  NA</td><td>  NA</td></tr>\n\t<tr><th scope=row>that</th><td> 282</td><td> 343</td><td> 377</td><td> 307</td><td>127</td><td> 265</td><td>  NA</td><td>  NA</td><td>  NA</td><td>  NA</td><td>  NA</td><td>  NA</td></tr>\n\t<tr><th scope=row>to</th><td> 887</td><td> 955</td><td>1062</td><td> 906</td><td>419</td><td> 782</td><td>  NA</td><td>  NA</td><td>  NA</td><td>  NA</td><td>  NA</td><td>  NA</td></tr>\n\t<tr><th scope=row>begin</th><td>   8</td><td>   5</td><td>   6</td><td>   5</td><td>  1</td><td>   2</td><td>  NA</td><td>  NA</td><td>  NA</td><td>  NA</td><td>  NA</td><td>  NA</td></tr>\n\t<tr><th scope=row>in</th><td>1282</td><td>1541</td><td>1676</td><td>1539</td><td>650</td><td>1345</td><td>  NA</td><td>  NA</td><td>  NA</td><td>  NA</td><td>  NA</td><td>  NA</td></tr>\n\t<tr><th scope=row>president</th><td> 115</td><td> 148</td><td> 129</td><td>  90</td><td> 71</td><td>  86</td><td>  NA</td><td>  NA</td><td>  NA</td><td>  NA</td><td>  NA</td><td>  NA</td></tr>\n\t<tr><th scope=row>george</th><td>  15</td><td>  20</td><td>  20</td><td>  16</td><td>  4</td><td>  13</td><td>  NA</td><td>  NA</td><td>  NA</td><td>  NA</td><td>  NA</td><td>  NA</td></tr>\n\t<tr><th scope=row>...</th><td>...</td><td>...</td><td>...</td><td>...</td><td>...</td><td>...</td><td>...</td><td>...</td><td>...</td><td>...</td><td>...</td><td>...</td></tr>\n\t<tr><th scope=row>onand</th><td>NA</td><td>NA</td><td>NA</td><td>NA</td><td>NA</td><td>NA</td><td>NA</td><td>NA</td><td>NA</td><td>NA</td><td>NA</td><td>NA</td></tr>\n\t<tr><th scope=row>roaming</th><td>NA</td><td>NA</td><td>NA</td><td>NA</td><td>NA</td><td>NA</td><td>NA</td><td>NA</td><td>NA</td><td>NA</td><td>NA</td><td>NA</td></tr>\n\t<tr><th scope=row>peaceful</th><td>NA</td><td>NA</td><td>NA</td><td>NA</td><td>NA</td><td>NA</td><td>NA</td><td>NA</td><td>NA</td><td>NA</td><td>NA</td><td>NA</td></tr>\n\t<tr><th scope=row>worries</th><td>NA</td><td>NA</td><td>NA</td><td>NA</td><td>NA</td><td>NA</td><td>NA</td><td>NA</td><td>NA</td><td>NA</td><td>NA</td><td>NA</td></tr>\n\t<tr><th scope=row>retail</th><td>NA</td><td>NA</td><td>NA</td><td>NA</td><td>NA</td><td>NA</td><td>NA</td><td>NA</td><td>NA</td><td>NA</td><td>NA</td><td>NA</td></tr>\n\t<tr><th scope=row>needing</th><td>NA</td><td>NA</td><td>NA</td><td>NA</td><td>NA</td><td>NA</td><td>NA</td><td>NA</td><td>NA</td><td>NA</td><td>NA</td><td>NA</td></tr>\n\t<tr><th scope=row>lapierre</th><td>NA</td><td>NA</td><td>NA</td><td>NA</td><td>NA</td><td>NA</td><td>NA</td><td>NA</td><td>NA</td><td>NA</td><td>NA</td><td>NA</td></tr>\n\t<tr><th scope=row>macginnitie</th><td>NA</td><td>NA</td><td>NA</td><td>NA</td><td>NA</td><td>NA</td><td>NA</td><td>NA</td><td>NA</td><td>NA</td><td>NA</td><td>NA</td></tr>\n\t<tr><th scope=row>lessening</th><td>NA</td><td>NA</td><td>NA</td><td>NA</td><td>NA</td><td>NA</td><td>NA</td><td>NA</td><td>NA</td><td>NA</td><td>NA</td><td>NA</td></tr>\n\t<tr><th scope=row>resume</th><td>NA</td><td>NA</td><td>NA</td><td>NA</td><td>NA</td><td>NA</td><td>NA</td><td>NA</td><td>NA</td><td>NA</td><td>NA</td><td>NA</td></tr>\n\t<tr><th scope=row>nameresume</th><td>NA</td><td>NA</td><td>NA</td><td>NA</td><td>NA</td><td>NA</td><td>NA</td><td>NA</td><td>NA</td><td>NA</td><td>NA</td><td>NA</td></tr>\n\t<tr><th scope=row>fascist</th><td>NA</td><td>NA</td><td>NA</td><td>NA</td><td>NA</td><td>NA</td><td>NA</td><td>NA</td><td>NA</td><td>NA</td><td>NA</td><td>NA</td></tr>\n\t<tr><th scope=row>dovillas</th><td>NA</td><td>NA</td><td>NA</td><td>NA</td><td>NA</td><td>NA</td><td>NA</td><td>NA</td><td>NA</td><td>NA</td><td>NA</td><td>NA</td></tr>\n\t<tr><th scope=row>avengers</th><td>NA</td><td>NA</td><td>NA</td><td>NA</td><td>NA</td><td>NA</td><td>NA</td><td>NA</td><td>NA</td><td>NA</td><td>NA</td><td>NA</td></tr>\n\t<tr><th scope=row>dialysis</th><td>NA</td><td>NA</td><td>NA</td><td>NA</td><td>NA</td><td>NA</td><td>NA</td><td>NA</td><td>NA</td><td>NA</td><td>NA</td><td>NA</td></tr>\n\t<tr><th scope=row>chemotherapy</th><td>NA</td><td>NA</td><td>NA</td><td>NA</td><td>NA</td><td>NA</td><td>NA</td><td>NA</td><td>NA</td><td>NA</td><td>NA</td><td>NA</td></tr>\n\t<tr><th scope=row>shrub</th><td>NA</td><td>NA</td><td>NA</td><td>NA</td><td>NA</td><td>NA</td><td>NA</td><td>NA</td><td>NA</td><td>NA</td><td>NA</td><td>NA</td></tr>\n\t<tr><th scope=row>stan</th><td>NA</td><td>NA</td><td>NA</td><td>NA</td><td>NA</td><td>NA</td><td>NA</td><td>NA</td><td>NA</td><td>NA</td><td>NA</td><td>NA</td></tr>\n\t<tr><th scope=row>tying</th><td>NA</td><td>NA</td><td>NA</td><td>NA</td><td>NA</td><td>NA</td><td>NA</td><td>NA</td><td>NA</td><td>NA</td><td>NA</td><td>NA</td></tr>\n\t<tr><th scope=row>invitation</th><td>NA</td><td>NA</td><td>NA</td><td>NA</td><td>NA</td><td>NA</td><td>NA</td><td>NA</td><td>NA</td><td>NA</td><td>NA</td><td>NA</td></tr>\n\t<tr><th scope=row>proudest</th><td>NA</td><td>NA</td><td>NA</td><td>NA</td><td>NA</td><td>NA</td><td>NA</td><td>NA</td><td>NA</td><td>NA</td><td>NA</td><td>NA</td></tr>\n\t<tr><th scope=row>accomplishment</th><td>NA</td><td>NA</td><td>NA</td><td>NA</td><td>NA</td><td>NA</td><td>NA</td><td>NA</td><td>NA</td><td>NA</td><td>NA</td><td>NA</td></tr>\n\t<tr><th scope=row>smiley</th><td>NA</td><td>NA</td><td>NA</td><td>NA</td><td>NA</td><td>NA</td><td>NA</td><td>NA</td><td>NA</td><td>NA</td><td>NA</td><td>NA</td></tr>\n\t<tr><th scope=row>cookie</th><td>NA</td><td>NA</td><td>NA</td><td>NA</td><td>NA</td><td>NA</td><td>NA</td><td>NA</td><td>NA</td><td>NA</td><td>NA</td><td>NA</td></tr>\n\t<tr><th scope=row>cookies</th><td>NA</td><td>NA</td><td>NA</td><td>NA</td><td>NA</td><td>NA</td><td>NA</td><td>NA</td><td>NA</td><td>NA</td><td>NA</td><td>NA</td></tr>\n\t<tr><th scope=row>trainor</th><td>NA</td><td>NA</td><td>NA</td><td>NA</td><td>NA</td><td>NA</td><td>NA</td><td>NA</td><td>NA</td><td>NA</td><td>NA</td><td>NA</td></tr>\n\t<tr><th scope=row>radically</th><td>NA</td><td>NA</td><td>NA</td><td>NA</td><td>NA</td><td>NA</td><td>NA</td><td>NA</td><td>NA</td><td>NA</td><td>NA</td><td>NA</td></tr>\n\t<tr><th scope=row>proportionally</th><td>NA</td><td>NA</td><td>NA</td><td>NA</td><td>NA</td><td>NA</td><td>NA</td><td>NA</td><td>NA</td><td>NA</td><td>NA</td><td>NA</td></tr>\n\t<tr><th scope=row>punish</th><td>NA</td><td>NA</td><td>NA</td><td>NA</td><td>NA</td><td>NA</td><td>NA</td><td>NA</td><td>NA</td><td>NA</td><td>NA</td><td>NA</td></tr>\n\t<tr><th scope=row>operates</th><td>NA</td><td>NA</td><td>NA</td><td>NA</td><td>NA</td><td>NA</td><td>NA</td><td>NA</td><td>NA</td><td>NA</td><td>NA</td><td>NA</td></tr>\n</tbody>\n</table>\n",
      "text/markdown": "\nA data.frame: 11624 x 12\n\n| <!--/--> | 0 &lt;int&gt; | 1 &lt;int&gt; | 2 &lt;int&gt; | 3 &lt;int&gt; | 4 &lt;int&gt; | 5 &lt;int&gt; | not0 &lt;int&gt; | not1 &lt;int&gt; | not2 &lt;int&gt; | not3 &lt;int&gt; | not4 &lt;int&gt; | not5 &lt;int&gt; |\n|---|---|---|---|---|---|---|---|---|---|---|---|---|\n| says |  455 |  479 |  492 |  405 | 233 |  322 | 1931 | 1907 | 1894 | 1981 | 2153 | 2064 |\n| the | 1078 | 1324 | 1451 | 1335 | 525 | 1173 | 5808 | 5562 | 5435 | 5551 | 6361 | 5713 |\n| annies |    0 |    1 |    0 |    0 |   0 |    0 |    1 |    0 |    1 |    1 |    1 |    1 |\n| list |   13 |    9 |   10 |    6 |  13 |   12 |   50 |   54 |   53 |   57 |   50 |   51 |\n| political |    5 |   12 |   10 |   11 |   2 |    9 |   44 |   37 |   39 |   38 |   47 |   40 |\n| group |   17 |   14 |    9 |    4 |  12 |    4 |   43 |   46 |   51 |   56 |   48 |   56 |\n| supports |   24 |   12 |   14 |    8 |   7 |    5 |   46 |   58 |   56 |   62 |   63 |   65 |\n| third |   12 |   14 |   17 |   26 |   2 |   15 |   74 |   72 |   69 |   60 |   84 |   71 |\n| trimester |    0 |    2 |    0 |    0 |   0 |    0 |    2 |    0 |    2 |    2 |    2 |    2 |\n| abortions |    6 |   15 |   11 |    2 |   4 |    5 |   37 |   28 |   32 |   41 |   39 |   38 |\n| on | 1105 | 1360 | 1462 | 1344 | 532 | 1127 |   NA |   NA |   NA |   NA |   NA |   NA |\n| demand |    4 |    6 |    1 |    3 |   1 |    4 |   NA |   NA |   NA |   NA |   NA |   NA |\n| when |   57 |   72 |   92 |   84 |  26 |   65 |   NA |   NA |   NA |   NA |   NA |   NA |\n| did |   71 |   85 |   69 |   76 |  32 |   69 |   NA |   NA |   NA |   NA |   NA |   NA |\n| decline |    1 |    1 |    8 |    5 |   0 |    2 |   NA |   NA |   NA |   NA |   NA |   NA |\n| of |  619 |  710 |  895 |  871 | 296 |  767 |   NA |   NA |   NA |   NA |   NA |   NA |\n| coal |    7 |    5 |    4 |    6 |   0 |    4 |   NA |   NA |   NA |   NA |   NA |   NA |\n| start |   10 |   11 |   26 |   17 |   6 |   16 |   NA |   NA |   NA |   NA |   NA |   NA |\n| it |  665 |  763 |  873 |  791 | 334 |  652 |   NA |   NA |   NA |   NA |   NA |   NA |\n| started |    5 |    8 |   14 |    6 |   4 |    5 |   NA |   NA |   NA |   NA |   NA |   NA |\n| natural |    3 |    4 |    5 |    4 |   1 |    3 |   NA |   NA |   NA |   NA |   NA |   NA |\n| gas |   15 |   22 |   26 |   19 |   5 |   20 |   NA |   NA |   NA |   NA |   NA |   NA |\n| took |   35 |   21 |   36 |   32 |   7 |   18 |   NA |   NA |   NA |   NA |   NA |   NA |\n| off |  107 |   86 |  109 |   90 |  34 |   97 |   NA |   NA |   NA |   NA |   NA |   NA |\n| that |  282 |  343 |  377 |  307 | 127 |  265 |   NA |   NA |   NA |   NA |   NA |   NA |\n| to |  887 |  955 | 1062 |  906 | 419 |  782 |   NA |   NA |   NA |   NA |   NA |   NA |\n| begin |    8 |    5 |    6 |    5 |   1 |    2 |   NA |   NA |   NA |   NA |   NA |   NA |\n| in | 1282 | 1541 | 1676 | 1539 | 650 | 1345 |   NA |   NA |   NA |   NA |   NA |   NA |\n| president |  115 |  148 |  129 |   90 |  71 |   86 |   NA |   NA |   NA |   NA |   NA |   NA |\n| george |   15 |   20 |   20 |   16 |   4 |   13 |   NA |   NA |   NA |   NA |   NA |   NA |\n| ... | ... | ... | ... | ... | ... | ... | ... | ... | ... | ... | ... | ... |\n| onand | NA | NA | NA | NA | NA | NA | NA | NA | NA | NA | NA | NA |\n| roaming | NA | NA | NA | NA | NA | NA | NA | NA | NA | NA | NA | NA |\n| peaceful | NA | NA | NA | NA | NA | NA | NA | NA | NA | NA | NA | NA |\n| worries | NA | NA | NA | NA | NA | NA | NA | NA | NA | NA | NA | NA |\n| retail | NA | NA | NA | NA | NA | NA | NA | NA | NA | NA | NA | NA |\n| needing | NA | NA | NA | NA | NA | NA | NA | NA | NA | NA | NA | NA |\n| lapierre | NA | NA | NA | NA | NA | NA | NA | NA | NA | NA | NA | NA |\n| macginnitie | NA | NA | NA | NA | NA | NA | NA | NA | NA | NA | NA | NA |\n| lessening | NA | NA | NA | NA | NA | NA | NA | NA | NA | NA | NA | NA |\n| resume | NA | NA | NA | NA | NA | NA | NA | NA | NA | NA | NA | NA |\n| nameresume | NA | NA | NA | NA | NA | NA | NA | NA | NA | NA | NA | NA |\n| fascist | NA | NA | NA | NA | NA | NA | NA | NA | NA | NA | NA | NA |\n| dovillas | NA | NA | NA | NA | NA | NA | NA | NA | NA | NA | NA | NA |\n| avengers | NA | NA | NA | NA | NA | NA | NA | NA | NA | NA | NA | NA |\n| dialysis | NA | NA | NA | NA | NA | NA | NA | NA | NA | NA | NA | NA |\n| chemotherapy | NA | NA | NA | NA | NA | NA | NA | NA | NA | NA | NA | NA |\n| shrub | NA | NA | NA | NA | NA | NA | NA | NA | NA | NA | NA | NA |\n| stan | NA | NA | NA | NA | NA | NA | NA | NA | NA | NA | NA | NA |\n| tying | NA | NA | NA | NA | NA | NA | NA | NA | NA | NA | NA | NA |\n| invitation | NA | NA | NA | NA | NA | NA | NA | NA | NA | NA | NA | NA |\n| proudest | NA | NA | NA | NA | NA | NA | NA | NA | NA | NA | NA | NA |\n| accomplishment | NA | NA | NA | NA | NA | NA | NA | NA | NA | NA | NA | NA |\n| smiley | NA | NA | NA | NA | NA | NA | NA | NA | NA | NA | NA | NA |\n| cookie | NA | NA | NA | NA | NA | NA | NA | NA | NA | NA | NA | NA |\n| cookies | NA | NA | NA | NA | NA | NA | NA | NA | NA | NA | NA | NA |\n| trainor | NA | NA | NA | NA | NA | NA | NA | NA | NA | NA | NA | NA |\n| radically | NA | NA | NA | NA | NA | NA | NA | NA | NA | NA | NA | NA |\n| proportionally | NA | NA | NA | NA | NA | NA | NA | NA | NA | NA | NA | NA |\n| punish | NA | NA | NA | NA | NA | NA | NA | NA | NA | NA | NA | NA |\n| operates | NA | NA | NA | NA | NA | NA | NA | NA | NA | NA | NA | NA |\n\n",
      "text/latex": "A data.frame: 11624 x 12\n\\begin{tabular}{r|llllllllllll}\n  & 0 & 1 & 2 & 3 & 4 & 5 & not0 & not1 & not2 & not3 & not4 & not5\\\\\n  & <int> & <int> & <int> & <int> & <int> & <int> & <int> & <int> & <int> & <int> & <int> & <int>\\\\\n\\hline\n\tsays &  455 &  479 &  492 &  405 & 233 &  322 & 1931 & 1907 & 1894 & 1981 & 2153 & 2064\\\\\n\tthe & 1078 & 1324 & 1451 & 1335 & 525 & 1173 & 5808 & 5562 & 5435 & 5551 & 6361 & 5713\\\\\n\tannies &    0 &    1 &    0 &    0 &   0 &    0 &    1 &    0 &    1 &    1 &    1 &    1\\\\\n\tlist &   13 &    9 &   10 &    6 &  13 &   12 &   50 &   54 &   53 &   57 &   50 &   51\\\\\n\tpolitical &    5 &   12 &   10 &   11 &   2 &    9 &   44 &   37 &   39 &   38 &   47 &   40\\\\\n\tgroup &   17 &   14 &    9 &    4 &  12 &    4 &   43 &   46 &   51 &   56 &   48 &   56\\\\\n\tsupports &   24 &   12 &   14 &    8 &   7 &    5 &   46 &   58 &   56 &   62 &   63 &   65\\\\\n\tthird &   12 &   14 &   17 &   26 &   2 &   15 &   74 &   72 &   69 &   60 &   84 &   71\\\\\n\ttrimester &    0 &    2 &    0 &    0 &   0 &    0 &    2 &    0 &    2 &    2 &    2 &    2\\\\\n\tabortions &    6 &   15 &   11 &    2 &   4 &    5 &   37 &   28 &   32 &   41 &   39 &   38\\\\\n\ton & 1105 & 1360 & 1462 & 1344 & 532 & 1127 &   NA &   NA &   NA &   NA &   NA &   NA\\\\\n\tdemand &    4 &    6 &    1 &    3 &   1 &    4 &   NA &   NA &   NA &   NA &   NA &   NA\\\\\n\twhen &   57 &   72 &   92 &   84 &  26 &   65 &   NA &   NA &   NA &   NA &   NA &   NA\\\\\n\tdid &   71 &   85 &   69 &   76 &  32 &   69 &   NA &   NA &   NA &   NA &   NA &   NA\\\\\n\tdecline &    1 &    1 &    8 &    5 &   0 &    2 &   NA &   NA &   NA &   NA &   NA &   NA\\\\\n\tof &  619 &  710 &  895 &  871 & 296 &  767 &   NA &   NA &   NA &   NA &   NA &   NA\\\\\n\tcoal &    7 &    5 &    4 &    6 &   0 &    4 &   NA &   NA &   NA &   NA &   NA &   NA\\\\\n\tstart &   10 &   11 &   26 &   17 &   6 &   16 &   NA &   NA &   NA &   NA &   NA &   NA\\\\\n\tit &  665 &  763 &  873 &  791 & 334 &  652 &   NA &   NA &   NA &   NA &   NA &   NA\\\\\n\tstarted &    5 &    8 &   14 &    6 &   4 &    5 &   NA &   NA &   NA &   NA &   NA &   NA\\\\\n\tnatural &    3 &    4 &    5 &    4 &   1 &    3 &   NA &   NA &   NA &   NA &   NA &   NA\\\\\n\tgas &   15 &   22 &   26 &   19 &   5 &   20 &   NA &   NA &   NA &   NA &   NA &   NA\\\\\n\ttook &   35 &   21 &   36 &   32 &   7 &   18 &   NA &   NA &   NA &   NA &   NA &   NA\\\\\n\toff &  107 &   86 &  109 &   90 &  34 &   97 &   NA &   NA &   NA &   NA &   NA &   NA\\\\\n\tthat &  282 &  343 &  377 &  307 & 127 &  265 &   NA &   NA &   NA &   NA &   NA &   NA\\\\\n\tto &  887 &  955 & 1062 &  906 & 419 &  782 &   NA &   NA &   NA &   NA &   NA &   NA\\\\\n\tbegin &    8 &    5 &    6 &    5 &   1 &    2 &   NA &   NA &   NA &   NA &   NA &   NA\\\\\n\tin & 1282 & 1541 & 1676 & 1539 & 650 & 1345 &   NA &   NA &   NA &   NA &   NA &   NA\\\\\n\tpresident &  115 &  148 &  129 &   90 &  71 &   86 &   NA &   NA &   NA &   NA &   NA &   NA\\\\\n\tgeorge &   15 &   20 &   20 &   16 &   4 &   13 &   NA &   NA &   NA &   NA &   NA &   NA\\\\\n\t... & ... & ... & ... & ... & ... & ... & ... & ... & ... & ... & ... & ...\\\\\n\tonand & NA & NA & NA & NA & NA & NA & NA & NA & NA & NA & NA & NA\\\\\n\troaming & NA & NA & NA & NA & NA & NA & NA & NA & NA & NA & NA & NA\\\\\n\tpeaceful & NA & NA & NA & NA & NA & NA & NA & NA & NA & NA & NA & NA\\\\\n\tworries & NA & NA & NA & NA & NA & NA & NA & NA & NA & NA & NA & NA\\\\\n\tretail & NA & NA & NA & NA & NA & NA & NA & NA & NA & NA & NA & NA\\\\\n\tneeding & NA & NA & NA & NA & NA & NA & NA & NA & NA & NA & NA & NA\\\\\n\tlapierre & NA & NA & NA & NA & NA & NA & NA & NA & NA & NA & NA & NA\\\\\n\tmacginnitie & NA & NA & NA & NA & NA & NA & NA & NA & NA & NA & NA & NA\\\\\n\tlessening & NA & NA & NA & NA & NA & NA & NA & NA & NA & NA & NA & NA\\\\\n\tresume & NA & NA & NA & NA & NA & NA & NA & NA & NA & NA & NA & NA\\\\\n\tnameresume & NA & NA & NA & NA & NA & NA & NA & NA & NA & NA & NA & NA\\\\\n\tfascist & NA & NA & NA & NA & NA & NA & NA & NA & NA & NA & NA & NA\\\\\n\tdovillas & NA & NA & NA & NA & NA & NA & NA & NA & NA & NA & NA & NA\\\\\n\tavengers & NA & NA & NA & NA & NA & NA & NA & NA & NA & NA & NA & NA\\\\\n\tdialysis & NA & NA & NA & NA & NA & NA & NA & NA & NA & NA & NA & NA\\\\\n\tchemotherapy & NA & NA & NA & NA & NA & NA & NA & NA & NA & NA & NA & NA\\\\\n\tshrub & NA & NA & NA & NA & NA & NA & NA & NA & NA & NA & NA & NA\\\\\n\tstan & NA & NA & NA & NA & NA & NA & NA & NA & NA & NA & NA & NA\\\\\n\ttying & NA & NA & NA & NA & NA & NA & NA & NA & NA & NA & NA & NA\\\\\n\tinvitation & NA & NA & NA & NA & NA & NA & NA & NA & NA & NA & NA & NA\\\\\n\tproudest & NA & NA & NA & NA & NA & NA & NA & NA & NA & NA & NA & NA\\\\\n\taccomplishment & NA & NA & NA & NA & NA & NA & NA & NA & NA & NA & NA & NA\\\\\n\tsmiley & NA & NA & NA & NA & NA & NA & NA & NA & NA & NA & NA & NA\\\\\n\tcookie & NA & NA & NA & NA & NA & NA & NA & NA & NA & NA & NA & NA\\\\\n\tcookies & NA & NA & NA & NA & NA & NA & NA & NA & NA & NA & NA & NA\\\\\n\ttrainor & NA & NA & NA & NA & NA & NA & NA & NA & NA & NA & NA & NA\\\\\n\tradically & NA & NA & NA & NA & NA & NA & NA & NA & NA & NA & NA & NA\\\\\n\tproportionally & NA & NA & NA & NA & NA & NA & NA & NA & NA & NA & NA & NA\\\\\n\tpunish & NA & NA & NA & NA & NA & NA & NA & NA & NA & NA & NA & NA\\\\\n\toperates & NA & NA & NA & NA & NA & NA & NA & NA & NA & NA & NA & NA\\\\\n\\end{tabular}\n",
      "text/plain": "               0    1    2    3    4   5    not0 not1 not2 not3 not4 not5\nsays            455  479  492  405 233  322 1931 1907 1894 1981 2153 2064\nthe            1078 1324 1451 1335 525 1173 5808 5562 5435 5551 6361 5713\nannies            0    1    0    0   0    0    1    0    1    1    1    1\nlist             13    9   10    6  13   12   50   54   53   57   50   51\npolitical         5   12   10   11   2    9   44   37   39   38   47   40\ngroup            17   14    9    4  12    4   43   46   51   56   48   56\nsupports         24   12   14    8   7    5   46   58   56   62   63   65\nthird            12   14   17   26   2   15   74   72   69   60   84   71\ntrimester         0    2    0    0   0    0    2    0    2    2    2    2\nabortions         6   15   11    2   4    5   37   28   32   41   39   38\non             1105 1360 1462 1344 532 1127   NA   NA   NA   NA   NA   NA\ndemand            4    6    1    3   1    4   NA   NA   NA   NA   NA   NA\nwhen             57   72   92   84  26   65   NA   NA   NA   NA   NA   NA\ndid              71   85   69   76  32   69   NA   NA   NA   NA   NA   NA\ndecline           1    1    8    5   0    2   NA   NA   NA   NA   NA   NA\nof              619  710  895  871 296  767   NA   NA   NA   NA   NA   NA\ncoal              7    5    4    6   0    4   NA   NA   NA   NA   NA   NA\nstart            10   11   26   17   6   16   NA   NA   NA   NA   NA   NA\nit              665  763  873  791 334  652   NA   NA   NA   NA   NA   NA\nstarted           5    8   14    6   4    5   NA   NA   NA   NA   NA   NA\nnatural           3    4    5    4   1    3   NA   NA   NA   NA   NA   NA\ngas              15   22   26   19   5   20   NA   NA   NA   NA   NA   NA\ntook             35   21   36   32   7   18   NA   NA   NA   NA   NA   NA\noff             107   86  109   90  34   97   NA   NA   NA   NA   NA   NA\nthat            282  343  377  307 127  265   NA   NA   NA   NA   NA   NA\nto              887  955 1062  906 419  782   NA   NA   NA   NA   NA   NA\nbegin             8    5    6    5   1    2   NA   NA   NA   NA   NA   NA\nin             1282 1541 1676 1539 650 1345   NA   NA   NA   NA   NA   NA\npresident       115  148  129   90  71   86   NA   NA   NA   NA   NA   NA\ngeorge           15   20   20   16   4   13   NA   NA   NA   NA   NA   NA\n...            ...  ...  ...  ...  ... ...  ...  ...  ...  ...  ...  ... \nonand          NA   NA   NA   NA   NA  NA   NA   NA   NA   NA   NA   NA  \nroaming        NA   NA   NA   NA   NA  NA   NA   NA   NA   NA   NA   NA  \npeaceful       NA   NA   NA   NA   NA  NA   NA   NA   NA   NA   NA   NA  \nworries        NA   NA   NA   NA   NA  NA   NA   NA   NA   NA   NA   NA  \nretail         NA   NA   NA   NA   NA  NA   NA   NA   NA   NA   NA   NA  \nneeding        NA   NA   NA   NA   NA  NA   NA   NA   NA   NA   NA   NA  \nlapierre       NA   NA   NA   NA   NA  NA   NA   NA   NA   NA   NA   NA  \nmacginnitie    NA   NA   NA   NA   NA  NA   NA   NA   NA   NA   NA   NA  \nlessening      NA   NA   NA   NA   NA  NA   NA   NA   NA   NA   NA   NA  \nresume         NA   NA   NA   NA   NA  NA   NA   NA   NA   NA   NA   NA  \nnameresume     NA   NA   NA   NA   NA  NA   NA   NA   NA   NA   NA   NA  \nfascist        NA   NA   NA   NA   NA  NA   NA   NA   NA   NA   NA   NA  \ndovillas       NA   NA   NA   NA   NA  NA   NA   NA   NA   NA   NA   NA  \navengers       NA   NA   NA   NA   NA  NA   NA   NA   NA   NA   NA   NA  \ndialysis       NA   NA   NA   NA   NA  NA   NA   NA   NA   NA   NA   NA  \nchemotherapy   NA   NA   NA   NA   NA  NA   NA   NA   NA   NA   NA   NA  \nshrub          NA   NA   NA   NA   NA  NA   NA   NA   NA   NA   NA   NA  \nstan           NA   NA   NA   NA   NA  NA   NA   NA   NA   NA   NA   NA  \ntying          NA   NA   NA   NA   NA  NA   NA   NA   NA   NA   NA   NA  \ninvitation     NA   NA   NA   NA   NA  NA   NA   NA   NA   NA   NA   NA  \nproudest       NA   NA   NA   NA   NA  NA   NA   NA   NA   NA   NA   NA  \naccomplishment NA   NA   NA   NA   NA  NA   NA   NA   NA   NA   NA   NA  \nsmiley         NA   NA   NA   NA   NA  NA   NA   NA   NA   NA   NA   NA  \ncookie         NA   NA   NA   NA   NA  NA   NA   NA   NA   NA   NA   NA  \ncookies        NA   NA   NA   NA   NA  NA   NA   NA   NA   NA   NA   NA  \ntrainor        NA   NA   NA   NA   NA  NA   NA   NA   NA   NA   NA   NA  \nradically      NA   NA   NA   NA   NA  NA   NA   NA   NA   NA   NA   NA  \nproportionally NA   NA   NA   NA   NA  NA   NA   NA   NA   NA   NA   NA  \npunish         NA   NA   NA   NA   NA  NA   NA   NA   NA   NA   NA   NA  \noperates       NA   NA   NA   NA   NA  NA   NA   NA   NA   NA   NA   NA  "
     },
     "metadata": {},
     "output_type": "display_data"
    }
   ],
   "execution_count": 308
  },
  {
   "cell_type": "code",
   "source": "mutual_information <- function(document, vocabulary){\n    \n}",
   "metadata": {
    "cell_id": "7c5aeed49a9b450f87818f3d7bacf4a4",
    "tags": [],
    "owner_user_id": "3d2efacf-d214-4c9a-b09a-aad0ae30632c",
    "deepnote_cell_type": "code",
    "deepnote_cell_height": 102
   },
   "outputs": [],
   "execution_count": null
  },
  {
   "cell_type": "code",
   "metadata": {
    "cell_id": "a8ac7189a1844baab5d6b29de32aa7ce",
    "deepnote_to_be_reexecuted": false,
    "execution_millis": 20,
    "execution_start": 1656257103628,
    "source_hash": "66d3f2cf",
    "tags": [],
    "vscode": {
     "languageId": "r"
    },
    "deepnote_cell_type": "code",
    "deepnote_cell_height": 405
   },
   "source": "multinomNBC.fit <- function(documents, labels, filter_n=0, freq_n=0) {\n    # documents must be a list\n    \n    log.like  <- list()\n\n    # extract vocabulary\n    V <- extract_alnum(documents[[1]],filter_n = filter_n, freq_n = freq_n)\n    N <- length(documents[[1]])\n    log.prior <- log(table(labels)) - log(N)\n\n    for(l in unique(labels[[1]])) {\n        \n        text <- extract_alnum(documents[labels==l], unique=FALSE)\n        freq <- table(c(text, V))\n        log.like[[as.character(l)]] <- log(freq) - log(sum(freq))\n    }\n\n    return(list(log.likelihood=log.like, log.prior=log.prior, vocabulary=V[order(V)]))\n}",
   "execution_count": 129,
   "outputs": []
  },
  {
   "cell_type": "code",
   "metadata": {
    "cell_id": "6a3d3e6ad6f84ca3a74864e8eb95d7e2",
    "tags": [],
    "vscode": {
     "languageId": "r"
    },
    "deepnote_to_be_reexecuted": false,
    "source_hash": "5e7c7b73",
    "execution_start": 1656258897249,
    "execution_millis": 0,
    "deepnote_cell_type": "code",
    "deepnote_cell_height": 387
   },
   "source": "multinomNBC.predict <- function(doc, log.prior, log.likelihood, voc){\n\n    text <- extract_alnum(doc, unique=FALSE)\n    freq <- table(text)[voc]\n    freq <- freq[!is.na(freq)]\n    #print(freq)\n    scores <- rep(0, length(log.prior))\n    names(scores) <- dimnames(log.prior)$Labels\n\n    for( l in names(scores)) {\n        scores[l] <- log.prior[l] + sum(log.likelihood[[l]][dimnames(freq)$text] * freq)\n    }\n    \n    return(names(scores)[which.max(scores)[[1]]])\n    # return(scores)\n}\n\nmultinomNBC.predict <- Vectorize(multinomNBC.predict, vectorize.args='doc', USE.NAMES=FALSE)",
   "execution_count": 162,
   "outputs": []
  },
  {
   "cell_type": "code",
   "source": "",
   "metadata": {
    "cell_id": "b37f4d9b15b3433b9d40774f78608a67",
    "tags": [],
    "deepnote_to_be_reexecuted": false,
    "source_hash": "b0523521",
    "execution_start": 1656253242929,
    "execution_millis": 37,
    "deepnote_cell_type": "code",
    "deepnote_cell_height": 163.375,
    "deepnote_output_heights": [
     null,
     2
    ]
   },
   "outputs": [
    {
     "name": "stderr",
     "text": "Warning message in rbind(parts$upper, ellip_v, parts$lower, deparse.level = 0L):\n“number of columns of result is not a multiple of vector length (arg 2)”\n",
     "output_type": "stream"
    },
    {
     "data": {
      "text/html": "",
      "text/markdown": "",
      "text/latex": "",
      "text/plain": "     \n1    \n2    \n3    \n4    \n5    \n6    \n7    \n8    \n9    \n10   \n11   \n12   \n13   \n14   \n15   \n16   \n17   \n18   \n19   \n20   \n21   \n22   \n23   \n24   \n25   \n26   \n27   \n28   \n29   \n30   \n...  \n10240\n10241\n10242\n10243\n10244\n10245\n10246\n10247\n10248\n10249\n10250\n10251\n10252\n10253\n10254\n10255\n10256\n10257\n10258\n10259\n10260\n10261\n10262\n10263\n10264\n10265\n10266\n10267\n10268\n10269"
     },
     "metadata": {},
     "output_type": "display_data"
    }
   ],
   "execution_count": 19
  },
  {
   "cell_type": "code",
   "metadata": {
    "cell_id": "47f9f03f406541508d7310b18cb666e4",
    "deepnote_to_be_reexecuted": false,
    "execution_millis": 531,
    "execution_start": 1656257493116,
    "source_hash": "f8eb4960",
    "tags": [],
    "vscode": {
     "languageId": "r"
    },
    "deepnote_cell_type": "code",
    "deepnote_cell_height": 210.5625,
    "deepnote_output_heights": [
     59.5625
    ]
   },
   "source": "nDoc <- dim(df)[1]\n\nresults <- multinomNBC.fit(df[1:nDoc, 2], df[1:nDoc, 1])\nresults$log.prior",
   "execution_count": 151,
   "outputs": [
    {
     "data": {
      "text/plain": "Labels\n        0         1         2         3         4         5 \n-1.824121 -1.636983 -1.576299 -1.653129 -2.501105 -1.808552 "
     },
     "metadata": {},
     "output_type": "display_data"
    }
   ]
  },
  {
   "cell_type": "code",
   "metadata": {
    "cell_id": "f1dff66a40f9424bbd4dc2d5794cc634",
    "deepnote_to_be_reexecuted": false,
    "execution_millis": 5988,
    "execution_start": 1656257493653,
    "source_hash": "19b66e84",
    "tags": [],
    "vscode": {
     "languageId": "r"
    },
    "deepnote_cell_type": "code",
    "deepnote_cell_height": 154.1875,
    "deepnote_output_heights": [
     21.1875
    ]
   },
   "source": "pred <- Vectorize(multinomNBC.predict, vectorize.args='doc', USE.NAMES=FALSE)(df[1:1000, 2][[1]], results$log.prior, results$log.likelihood, results$vocabulary)\n\naccuracy(pred, df[1:1000, 1][[1]])",
   "execution_count": 152,
   "outputs": [
    {
     "data": {
      "text/html": "0.638",
      "text/markdown": "0.638",
      "text/latex": "0.638",
      "text/plain": "[1] 0.638"
     },
     "metadata": {},
     "output_type": "display_data"
    }
   ]
  },
  {
   "cell_type": "code",
   "metadata": {
    "cell_id": "988d67c98b0d497293bb67d316445fd6",
    "tags": [],
    "deepnote_to_be_reexecuted": false,
    "source_hash": "dacdabf8",
    "execution_start": 1656256132949,
    "execution_millis": 0,
    "deepnote_cell_type": "code",
    "deepnote_cell_height": 171
   },
   "source": "for(i in seq_along(df$Text)) {\n    if(str_detect(df$Text[i], 'NA')) {\n        cat(df$Text[i], '\\n')\n        cat(label_dict[as.character(df$Labels[i])], '\\n\\n')\n    }\n}",
   "execution_count": 101,
   "outputs": []
  },
  {
   "cell_type": "code",
   "metadata": {
    "cell_id": "2ec7d732ce11421686ecdc1928a66a5d",
    "deepnote_to_be_reexecuted": false,
    "execution_millis": 739,
    "execution_start": 1656264237989,
    "source_hash": "14bb8eb8",
    "tags": [],
    "vscode": {
     "languageId": "r"
    },
    "deepnote_cell_type": "code",
    "deepnote_cell_height": 260.375,
    "deepnote_output_heights": [
     21.1875,
     21.1875
    ]
   },
   "source": "#our vocabulary\nvoc <- extract_alnum(df[, 2][[1]], unique=TRUE)\n# which(is.na(voc))\nlength(voc)\nsum(is.na(voc))\n",
   "execution_count": 270,
   "outputs": [
    {
     "data": {
      "text/html": "11624",
      "text/markdown": "11624",
      "text/latex": "11624",
      "text/plain": "[1] 11624"
     },
     "metadata": {},
     "output_type": "display_data"
    },
    {
     "data": {
      "text/html": "0",
      "text/markdown": "0",
      "text/latex": "0",
      "text/plain": "[1] 0"
     },
     "metadata": {},
     "output_type": "display_data"
    }
   ]
  },
  {
   "cell_type": "markdown",
   "source": "## Feature reduction",
   "metadata": {
    "cell_id": "ef8218e886a647e9a5d4169c0474705b",
    "tags": [],
    "deepnote_cell_type": "markdown",
    "deepnote_cell_height": 70
   }
  },
  {
   "cell_type": "markdown",
   "source": "### Prediction sul training set ",
   "metadata": {
    "cell_id": "941757c352c24a51a87ffe4ac80d9f30",
    "tags": [],
    "deepnote_cell_type": "markdown",
    "deepnote_cell_height": 62
   }
  },
  {
   "cell_type": "code",
   "source": "nDoc <- dim(df)[1]\nresults_red <- multinomNBC.fit(df[1:nDoc, 2], df[1:nDoc, 1], filter_n = 2)\nresults_red$log.prior",
   "metadata": {
    "cell_id": "0a161f13ecaa4f5c94184b152350f686",
    "tags": [],
    "deepnote_to_be_reexecuted": false,
    "source_hash": "2f509e18",
    "execution_start": 1656264187420,
    "execution_millis": 846,
    "deepnote_cell_type": "code",
    "deepnote_cell_height": 192.5625,
    "deepnote_output_heights": [
     59.5625
    ]
   },
   "outputs": [
    {
     "data": {
      "text/plain": "Labels\n        0         1         2         3         4         5 \n-1.824121 -1.636983 -1.576299 -1.653129 -2.501105 -1.808552 "
     },
     "metadata": {},
     "output_type": "display_data"
    }
   ],
   "execution_count": 267
  },
  {
   "cell_type": "code",
   "source": "pred_red <- Vectorize(multinomNBC.predict, vectorize.args='doc', USE.NAMES=FALSE)(df[1:1000, 2][[1]], results_red$log.prior, results_red$log.likelihood, results_red$vocabulary)\naccuracy(pred_red, df[1:1000, 1][[1]])",
   "metadata": {
    "cell_id": "164e8ecb412e4be6aff508896c7c30df",
    "tags": [],
    "deepnote_to_be_reexecuted": false,
    "source_hash": "ac1b9dbe",
    "execution_start": 1656264189582,
    "execution_millis": 4518,
    "deepnote_cell_type": "code",
    "deepnote_cell_height": 136.1875,
    "deepnote_output_heights": [
     21.1875
    ]
   },
   "outputs": [
    {
     "data": {
      "text/html": "0.644",
      "text/markdown": "0.644",
      "text/latex": "0.644",
      "text/plain": "[1] 0.644"
     },
     "metadata": {},
     "output_type": "display_data"
    }
   ],
   "execution_count": 268
  },
  {
   "cell_type": "code",
   "source": "confusion_matrix(pred_red, df[1:1000, 1][[1]])",
   "metadata": {
    "cell_id": "5739da8bdff646c6b431f7b7a4e73466",
    "tags": [],
    "deepnote_to_be_reexecuted": false,
    "source_hash": "217e6628",
    "execution_start": 1656256058940,
    "execution_millis": 458,
    "deepnote_cell_type": "code",
    "deepnote_cell_height": 345,
    "deepnote_output_heights": [
     248,
     248
    ]
   },
   "outputs": [
    {
     "data": {
      "text/html": "<table class=\"dataframe\">\n<caption>A matrix: 6 x 6 of type dbl</caption>\n<thead>\n\t<tr><th></th><th scope=col>t_True</th><th scope=col>t_Not-Known</th><th scope=col>t_Mostly-True</th><th scope=col>t_Half-True</th><th scope=col>t_False</th><th scope=col>t_Barely-True</th></tr>\n</thead>\n<tbody>\n\t<tr><th scope=row>p_True</th><td>0.096</td><td>0.006</td><td>0.005</td><td>0.011</td><td>0.014</td><td>0.007</td></tr>\n\t<tr><th scope=row>p_Not-Known</th><td>0.000</td><td>0.036</td><td>0.000</td><td>0.000</td><td>0.000</td><td>0.001</td></tr>\n\t<tr><th scope=row>p_Mostly-True</th><td>0.022</td><td>0.011</td><td>0.150</td><td>0.029</td><td>0.027</td><td>0.026</td></tr>\n\t<tr><th scope=row>p_Half-True</th><td>0.027</td><td>0.013</td><td>0.022</td><td>0.146</td><td>0.026</td><td>0.016</td></tr>\n\t<tr><th scope=row>p_False</th><td>0.013</td><td>0.007</td><td>0.013</td><td>0.013</td><td>0.130</td><td>0.010</td></tr>\n\t<tr><th scope=row>p_Barely-True</th><td>0.006</td><td>0.007</td><td>0.007</td><td>0.011</td><td>0.006</td><td>0.086</td></tr>\n</tbody>\n</table>\n",
      "text/markdown": "\nA matrix: 6 x 6 of type dbl\n\n| <!--/--> | t_True | t_Not-Known | t_Mostly-True | t_Half-True | t_False | t_Barely-True |\n|---|---|---|---|---|---|---|\n| p_True | 0.096 | 0.006 | 0.005 | 0.011 | 0.014 | 0.007 |\n| p_Not-Known | 0.000 | 0.036 | 0.000 | 0.000 | 0.000 | 0.001 |\n| p_Mostly-True | 0.022 | 0.011 | 0.150 | 0.029 | 0.027 | 0.026 |\n| p_Half-True | 0.027 | 0.013 | 0.022 | 0.146 | 0.026 | 0.016 |\n| p_False | 0.013 | 0.007 | 0.013 | 0.013 | 0.130 | 0.010 |\n| p_Barely-True | 0.006 | 0.007 | 0.007 | 0.011 | 0.006 | 0.086 |\n\n",
      "text/latex": "A matrix: 6 x 6 of type dbl\n\\begin{tabular}{r|llllll}\n  & t\\_True & t\\_Not-Known & t\\_Mostly-True & t\\_Half-True & t\\_False & t\\_Barely-True\\\\\n\\hline\n\tp\\_True & 0.096 & 0.006 & 0.005 & 0.011 & 0.014 & 0.007\\\\\n\tp\\_Not-Known & 0.000 & 0.036 & 0.000 & 0.000 & 0.000 & 0.001\\\\\n\tp\\_Mostly-True & 0.022 & 0.011 & 0.150 & 0.029 & 0.027 & 0.026\\\\\n\tp\\_Half-True & 0.027 & 0.013 & 0.022 & 0.146 & 0.026 & 0.016\\\\\n\tp\\_False & 0.013 & 0.007 & 0.013 & 0.013 & 0.130 & 0.010\\\\\n\tp\\_Barely-True & 0.006 & 0.007 & 0.007 & 0.011 & 0.006 & 0.086\\\\\n\\end{tabular}\n",
      "text/plain": "              t_True t_Not-Known t_Mostly-True t_Half-True t_False\np_True        0.096  0.006       0.005         0.011       0.014  \np_Not-Known   0.000  0.036       0.000         0.000       0.000  \np_Mostly-True 0.022  0.011       0.150         0.029       0.027  \np_Half-True   0.027  0.013       0.022         0.146       0.026  \np_False       0.013  0.007       0.013         0.013       0.130  \np_Barely-True 0.006  0.007       0.007         0.011       0.006  \n              t_Barely-True\np_True        0.007        \np_Not-Known   0.001        \np_Mostly-True 0.026        \np_Half-True   0.016        \np_False       0.010        \np_Barely-True 0.086        "
     },
     "metadata": {},
     "output_type": "display_data"
    }
   ],
   "execution_count": 100
  },
  {
   "cell_type": "markdown",
   "source": "### Prediction sul test set ",
   "metadata": {
    "cell_id": "961b84b1a3f24333b54cd15578d6eee9",
    "tags": [],
    "deepnote_cell_type": "markdown",
    "deepnote_cell_height": 62
   }
  },
  {
   "cell_type": "code",
   "source": "nDoc <- dim(df)[1]\nresults_test <- multinomNBC.fit(df[1:(nDoc-500), 2], df[1:(nDoc-500), 1], filter_n = 5)\n\npred_test <- Vectorize(multinomNBC.predict, vectorize.args='doc', USE.NAMES=FALSE)(df[(nDoc+1-500):nDoc, 2][[1]], results_test$log.prior, results_test$log.likelihood, results_test$vocabulary)\naccuracy(pred_test, df[(nDoc+1-500):nDoc, 1][[1]])",
   "metadata": {
    "cell_id": "cb1b7263a04845acbd71d4bba202a6cd",
    "tags": [],
    "deepnote_to_be_reexecuted": false,
    "source_hash": "31971309",
    "execution_start": 1656257689561,
    "execution_millis": 2594,
    "deepnote_cell_type": "code",
    "deepnote_cell_height": 190.1875,
    "deepnote_output_heights": [
     21.1875
    ]
   },
   "outputs": [
    {
     "data": {
      "text/html": "0.246",
      "text/markdown": "0.246",
      "text/latex": "0.246",
      "text/plain": "[1] 0.246"
     },
     "metadata": {},
     "output_type": "display_data"
    }
   ],
   "execution_count": 155
  },
  {
   "cell_type": "code",
   "source": "confusion_matrix(pred_test, df[(nDoc-500):nDoc, 1][[1]])",
   "metadata": {
    "cell_id": "8c96a620319249009bdb797c50e6ea70",
    "tags": [],
    "deepnote_to_be_reexecuted": false,
    "source_hash": "f3d5fef",
    "execution_start": 1656256354067,
    "execution_millis": 20,
    "deepnote_cell_type": "code",
    "deepnote_cell_height": 345,
    "deepnote_output_heights": [
     248
    ]
   },
   "outputs": [
    {
     "data": {
      "text/html": "<table class=\"dataframe\">\n<caption>A matrix: 6 x 6 of type dbl</caption>\n<thead>\n\t<tr><th></th><th scope=col>t_True</th><th scope=col>t_Not-Known</th><th scope=col>t_Mostly-True</th><th scope=col>t_Half-True</th><th scope=col>t_False</th><th scope=col>t_Barely-True</th></tr>\n</thead>\n<tbody>\n\t<tr><th scope=row>p_True</th><td>0.02794411</td><td>0.009980040</td><td>0.021956088</td><td>0.023952096</td><td>0.02395210</td><td>0.001996008</td></tr>\n\t<tr><th scope=row>p_Not-Known</th><td>0.00000000</td><td>0.003992016</td><td>0.003992016</td><td>0.003992016</td><td>0.00000000</td><td>0.001996008</td></tr>\n\t<tr><th scope=row>p_Mostly-True</th><td>0.06586826</td><td>0.013972056</td><td>0.049900200</td><td>0.049900200</td><td>0.03992016</td><td>0.023952096</td></tr>\n\t<tr><th scope=row>p_Half-True</th><td>0.03393214</td><td>0.019960080</td><td>0.055888224</td><td>0.071856287</td><td>0.05588822</td><td>0.065868263</td></tr>\n\t<tr><th scope=row>p_False</th><td>0.02794411</td><td>0.023952096</td><td>0.025948104</td><td>0.035928144</td><td>0.03393214</td><td>0.015968064</td></tr>\n\t<tr><th scope=row>p_Barely-True</th><td>0.01796407</td><td>0.021956088</td><td>0.025948104</td><td>0.027944112</td><td>0.03193613</td><td>0.039920160</td></tr>\n</tbody>\n</table>\n",
      "text/markdown": "\nA matrix: 6 x 6 of type dbl\n\n| <!--/--> | t_True | t_Not-Known | t_Mostly-True | t_Half-True | t_False | t_Barely-True |\n|---|---|---|---|---|---|---|\n| p_True | 0.02794411 | 0.009980040 | 0.021956088 | 0.023952096 | 0.02395210 | 0.001996008 |\n| p_Not-Known | 0.00000000 | 0.003992016 | 0.003992016 | 0.003992016 | 0.00000000 | 0.001996008 |\n| p_Mostly-True | 0.06586826 | 0.013972056 | 0.049900200 | 0.049900200 | 0.03992016 | 0.023952096 |\n| p_Half-True | 0.03393214 | 0.019960080 | 0.055888224 | 0.071856287 | 0.05588822 | 0.065868263 |\n| p_False | 0.02794411 | 0.023952096 | 0.025948104 | 0.035928144 | 0.03393214 | 0.015968064 |\n| p_Barely-True | 0.01796407 | 0.021956088 | 0.025948104 | 0.027944112 | 0.03193613 | 0.039920160 |\n\n",
      "text/latex": "A matrix: 6 x 6 of type dbl\n\\begin{tabular}{r|llllll}\n  & t\\_True & t\\_Not-Known & t\\_Mostly-True & t\\_Half-True & t\\_False & t\\_Barely-True\\\\\n\\hline\n\tp\\_True & 0.02794411 & 0.009980040 & 0.021956088 & 0.023952096 & 0.02395210 & 0.001996008\\\\\n\tp\\_Not-Known & 0.00000000 & 0.003992016 & 0.003992016 & 0.003992016 & 0.00000000 & 0.001996008\\\\\n\tp\\_Mostly-True & 0.06586826 & 0.013972056 & 0.049900200 & 0.049900200 & 0.03992016 & 0.023952096\\\\\n\tp\\_Half-True & 0.03393214 & 0.019960080 & 0.055888224 & 0.071856287 & 0.05588822 & 0.065868263\\\\\n\tp\\_False & 0.02794411 & 0.023952096 & 0.025948104 & 0.035928144 & 0.03393214 & 0.015968064\\\\\n\tp\\_Barely-True & 0.01796407 & 0.021956088 & 0.025948104 & 0.027944112 & 0.03193613 & 0.039920160\\\\\n\\end{tabular}\n",
      "text/plain": "              t_True     t_Not-Known t_Mostly-True t_Half-True t_False   \np_True        0.02794411 0.009980040 0.021956088   0.023952096 0.02395210\np_Not-Known   0.00000000 0.003992016 0.003992016   0.003992016 0.00000000\np_Mostly-True 0.06586826 0.013972056 0.049900200   0.049900200 0.03992016\np_Half-True   0.03393214 0.019960080 0.055888224   0.071856287 0.05588822\np_False       0.02794411 0.023952096 0.025948104   0.035928144 0.03393214\np_Barely-True 0.01796407 0.021956088 0.025948104   0.027944112 0.03193613\n              t_Barely-True\np_True        0.001996008  \np_Not-Known   0.001996008  \np_Mostly-True 0.023952096  \np_Half-True   0.065868263  \np_False       0.015968064  \np_Barely-True 0.039920160  "
     },
     "metadata": {},
     "output_type": "display_data"
    }
   ],
   "execution_count": 104
  },
  {
   "cell_type": "markdown",
   "source": "file corrotti che sono stati sistemati sono dal 1282 al 12..",
   "metadata": {
    "cell_id": "092514867f17415f96e4b60d463a9dc9",
    "tags": [],
    "deepnote_cell_type": "markdown",
    "deepnote_cell_height": 52.390625
   }
  },
  {
   "cell_type": "markdown",
   "source": "### Avoid Overfitting",
   "metadata": {
    "cell_id": "1f8ebe0d92b242f48af990bb85979bfa",
    "tags": [],
    "deepnote_cell_type": "markdown",
    "deepnote_cell_height": 62
   }
  },
  {
   "cell_type": "code",
   "source": "test <- 1000\n\nresults_freq <- multinomNBC.fit(df[1:(nDoc-test), 2], df[1:(nDoc-test), 1], filter_n = 2, freq_n = 60)\n\npred_freq <- multinomNBC.predict(df[(nDoc-test+1):nDoc, 2][[1]], results_freq$log.prior, results_freq$log.likelihood, results_freq$vocabulary)\naccuracy(pred_freq, df[(nDoc-test+1):nDoc, 1][[1]])",
   "metadata": {
    "cell_id": "4cc7df8b4ba34a13acfec1326b066e4d",
    "tags": [],
    "deepnote_to_be_reexecuted": false,
    "source_hash": "13522bdf",
    "execution_start": 1656258927637,
    "execution_millis": 5409,
    "deepnote_cell_type": "code",
    "deepnote_cell_height": 208.1875,
    "deepnote_output_heights": [
     21.1875,
     21.1875
    ]
   },
   "outputs": [
    {
     "data": {
      "text/html": "0.217",
      "text/markdown": "0.217",
      "text/latex": "0.217",
      "text/plain": "[1] 0.217"
     },
     "metadata": {},
     "output_type": "display_data"
    }
   ],
   "execution_count": 164
  },
  {
   "cell_type": "code",
   "source": "",
   "metadata": {
    "cell_id": "21aec4f700784a8aa06dda5115239e66",
    "tags": [],
    "deepnote_cell_type": "code",
    "deepnote_cell_height": 66
   },
   "outputs": [],
   "execution_count": null
  },
  {
   "cell_type": "markdown",
   "source": "## A fantastic plot",
   "metadata": {
    "cell_id": "c328bce5c4014cb9978012dfef7c3101",
    "tags": [],
    "deepnote_cell_type": "markdown",
    "deepnote_cell_height": 70
   }
  },
  {
   "cell_type": "code",
   "source": "freqs <- c(0, 10, 20, 30)#, 40, 50, 60, 70, 80, 90)\nfilters <- c(0, 1, 2, 3)#, 4, 5, 6, 7, 8, 9)\nnDoc=dim(df)[1]\ndata <- matrix(ncol=length(freqs), nrow=length(filters))\nrownames(data) <- filters\ncolnames(data) <- freqs\nfor(freq_n in freqs) {\n    for(filter_n in filters) {\n        results   <- multinomNBC.fit(df[1:nDoc, 2], df[1:nDoc, 1], filter_n = filter_n, freq_n = freq_n)\n        pred <- multinomNBC.predict(df[1:nDoc, 2][[1]], results$log.prior, results$log.likelihood, results$vocabulary)\n        data[as.character(filter_n), as.character(freq_n)] <- accuracy(pred, df[1:nDoc, 1][[1]])\n    }\n}",
   "metadata": {
    "cell_id": "f5f713303c7d4dce8775099c07a37b00",
    "tags": [],
    "deepnote_to_be_reexecuted": false,
    "source_hash": "1d0210fa",
    "execution_start": 1656261709613,
    "execution_millis": 74005,
    "owner_user_id": "5e4dbb80-7137-44c2-8f26-b3d7f6482042",
    "deepnote_cell_type": "code",
    "deepnote_cell_height": 297,
    "deepnote_output_heights": [
     21.1875
    ]
   },
   "outputs": [],
   "execution_count": 205
  },
  {
   "cell_type": "code",
   "source": "df_plt <- as.data.frame(data) %>% mutate(., filters=rownames(.)) %>% pivot_longer(., cols=colnames(.)[colnames(.)!='filters'], names_to='freqs', values_to='acc')\ndf_plt",
   "metadata": {
    "cell_id": "ac6454a19ccc46cab553ef92875b4063",
    "tags": [],
    "deepnote_to_be_reexecuted": false,
    "source_hash": "22072c73",
    "execution_start": 1656262482205,
    "execution_millis": 2,
    "deepnote_cell_type": "code",
    "deepnote_cell_height": 682,
    "deepnote_output_heights": [
     567
    ]
   },
   "outputs": [
    {
     "data": {
      "text/html": "<table class=\"dataframe\">\n<caption>A tibble: 16 x 3</caption>\n<thead>\n\t<tr><th scope=col>filters</th><th scope=col>freqs</th><th scope=col>acc</th></tr>\n\t<tr><th scope=col>&lt;chr&gt;</th><th scope=col>&lt;chr&gt;</th><th scope=col>&lt;dbl&gt;</th></tr>\n</thead>\n<tbody>\n\t<tr><td>0</td><td>0 </td><td>0.643977</td></tr>\n\t<tr><td>0</td><td>10</td><td>0.643977</td></tr>\n\t<tr><td>0</td><td>20</td><td>0.643977</td></tr>\n\t<tr><td>0</td><td>30</td><td>0.643977</td></tr>\n\t<tr><td>1</td><td>0 </td><td>0.643977</td></tr>\n\t<tr><td>1</td><td>10</td><td>0.643977</td></tr>\n\t<tr><td>1</td><td>20</td><td>0.643977</td></tr>\n\t<tr><td>1</td><td>30</td><td>0.643977</td></tr>\n\t<tr><td>2</td><td>0 </td><td>0.643977</td></tr>\n\t<tr><td>2</td><td>10</td><td>0.643977</td></tr>\n\t<tr><td>2</td><td>20</td><td>0.643977</td></tr>\n\t<tr><td>2</td><td>30</td><td>      NA</td></tr>\n\t<tr><td>3</td><td>0 </td><td>0.643977</td></tr>\n\t<tr><td>3</td><td>10</td><td>0.643977</td></tr>\n\t<tr><td>3</td><td>20</td><td>0.643977</td></tr>\n\t<tr><td>3</td><td>30</td><td>      NA</td></tr>\n</tbody>\n</table>\n",
      "text/markdown": "\nA tibble: 16 x 3\n\n| filters &lt;chr&gt; | freqs &lt;chr&gt; | acc &lt;dbl&gt; |\n|---|---|---|\n| 0 | 0  | 0.643977 |\n| 0 | 10 | 0.643977 |\n| 0 | 20 | 0.643977 |\n| 0 | 30 | 0.643977 |\n| 1 | 0  | 0.643977 |\n| 1 | 10 | 0.643977 |\n| 1 | 20 | 0.643977 |\n| 1 | 30 | 0.643977 |\n| 2 | 0  | 0.643977 |\n| 2 | 10 | 0.643977 |\n| 2 | 20 | 0.643977 |\n| 2 | 30 |       NA |\n| 3 | 0  | 0.643977 |\n| 3 | 10 | 0.643977 |\n| 3 | 20 | 0.643977 |\n| 3 | 30 |       NA |\n\n",
      "text/latex": "A tibble: 16 x 3\n\\begin{tabular}{lll}\n filters & freqs & acc\\\\\n <chr> & <chr> & <dbl>\\\\\n\\hline\n\t 0 & 0  & 0.643977\\\\\n\t 0 & 10 & 0.643977\\\\\n\t 0 & 20 & 0.643977\\\\\n\t 0 & 30 & 0.643977\\\\\n\t 1 & 0  & 0.643977\\\\\n\t 1 & 10 & 0.643977\\\\\n\t 1 & 20 & 0.643977\\\\\n\t 1 & 30 & 0.643977\\\\\n\t 2 & 0  & 0.643977\\\\\n\t 2 & 10 & 0.643977\\\\\n\t 2 & 20 & 0.643977\\\\\n\t 2 & 30 &       NA\\\\\n\t 3 & 0  & 0.643977\\\\\n\t 3 & 10 & 0.643977\\\\\n\t 3 & 20 & 0.643977\\\\\n\t 3 & 30 &       NA\\\\\n\\end{tabular}\n",
      "text/plain": "   filters freqs acc     \n1  0       0     0.643977\n2  0       10    0.643977\n3  0       20    0.643977\n4  0       30    0.643977\n5  1       0     0.643977\n6  1       10    0.643977\n7  1       20    0.643977\n8  1       30    0.643977\n9  2       0     0.643977\n10 2       10    0.643977\n11 2       20    0.643977\n12 2       30          NA\n13 3       0     0.643977\n14 3       10    0.643977\n15 3       20    0.643977\n16 3       30          NA"
     },
     "metadata": {},
     "output_type": "display_data"
    }
   ],
   "execution_count": 220
  },
  {
   "cell_type": "code",
   "source": "ggplot(df_plt, aes(x=filters, y=freqs)) +\ngeom_raster(aes(fill=acc))",
   "metadata": {
    "cell_id": "c14e7bed08ad46c58b39ade852697dd3",
    "tags": [],
    "deepnote_to_be_reexecuted": false,
    "source_hash": "649f6af7",
    "execution_start": 1656261486501,
    "execution_millis": 762,
    "deepnote_cell_type": "code",
    "deepnote_cell_height": 726,
    "deepnote_output_heights": [
     611
    ]
   },
   "outputs": [
    {
     "data": {
      "text/plain": "plot without title",
      "image/png": "[encoded data removed]"
     },
     "metadata": {
      "image/png": {
       "width": 840,
       "height": 840
      }
     },
     "output_type": "display_data"
    }
   ],
   "execution_count": 204
  },
  {
   "cell_type": "code",
   "source": "",
   "metadata": {
    "cell_id": "563124a659d740ef99f58c0538c3f482",
    "tags": [],
    "deepnote_cell_type": "code",
    "deepnote_cell_height": 66
   },
   "outputs": [],
   "execution_count": null
  },
  {
   "cell_type": "markdown",
   "source": "<a style='text-decoration:none;line-height:16px;display:flex;color:#5B5B62;padding:10px;justify-content:end;' href='https://deepnote.com?utm_source=created-in-deepnote-cell&projectId=811d2f44-4ec2-4c23-800a-72ed1acf812e' target=\"_blank\">\n<img alt='Created in deepnote.com' style='display:inline;max-height:16px;margin:0px;margin-right:7.5px;' src='data:image/svg+xml;base64,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' > </img>\nCreated in <span style='font-weight:600;margin-left:4px;'>Deepnote</span></a>",
   "metadata": {
    "tags": [],
    "created_in_deepnote_cell": true,
    "deepnote_cell_type": "markdown"
   }
  }
 ],
 "nbformat": 4,
 "nbformat_minor": 2,
 "metadata": {
  "deepnote": {},
  "deepnote_execution_queue": [],
  "deepnote_notebook_id": "aa832509-5524-45ee-b404-b93d37fa8ca4",
  "kernelspec": {
   "display_name": "R",
   "language": "R",
   "name": "ir"
  },
  "language_info": {
   "codemirror_mode": "r",
   "file_extension": ".r",
   "mimetype": "text/x-r-source",
   "name": "R",
   "pygments_lexer": "r",
   "version": "4.1.3"
  },
  "orig_nbformat": 2,
  "vscode": {
   "interpreter": {
    "hash": "23a13e7eb16f51d2e77358f512f3c050846c788611a3aaccf5f7e8bef10b9e37"
   }
  }
 }
}