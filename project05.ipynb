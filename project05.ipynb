{
 "cells": [
  {
   "cell_type": "markdown",
   "source": "# Naive Bayes classifier for Fake News recognition\nFake news are defined by the New York Times as *\"a made-up story with an intention to deceive\"*, with\nthe intent to confuse or deceive people. They are everywhere in our daily life, and come especially from\nsocial media platforms and applications in the online world. Being able to distinguish fake contents form\nreal news is today one of the most serious challenges facing the news industry.  \n\n[Naive Bayes classifiers][1] are powerful algorithms that are used for text data analysis and are connected\nto classification tasks of text in multiple classes.  \nThe goal of the project is to implement a __Multinomial Naive Bayes classifier__ in `R` and test its perfor-\nmances in the classification of social media posts.\nThe suggested data set is available on [Kaggle][2]\n\n[1]: https://nlp.stanford.edu/IR-book/pdf/13bayes.pdf \"C. D. Manning, Chapter 13, Text Classification and Naive Bayes, in Introduction to Information Retrieval, Cambridge University Press, 2008.\"\n[2]: https://www.kaggle.com/datasets/anmolkumar/fake-news-content-detection?select=train.csv",
   "metadata": {
    "cell_id": "6eb6f151-42ed-4d94-8d45-c7dfdf37d36b",
    "deepnote_to_be_reexecuted": false,
    "execution_millis": 0,
    "execution_start": 1656085400018,
    "source_hash": "66d083ce",
    "tags": [],
    "deepnote_cell_type": "markdown",
    "deepnote_cell_height": 246.390625
   }
  },
  {
   "cell_type": "markdown",
   "source": "## Import useful libraries",
   "metadata": {
    "cell_id": "b7bbc4c407f14e33bdc2783a4db757a9",
    "tags": [],
    "deepnote_cell_type": "markdown",
    "deepnote_cell_height": 70
   }
  },
  {
   "cell_type": "code",
   "metadata": {
    "cell_id": "e65a712e7da74894ac221d5c9b477c43",
    "deepnote_to_be_reexecuted": false,
    "execution_millis": 17,
    "execution_start": 1656341882945,
    "source_hash": "ac81e2af",
    "tags": [],
    "vscode": {
     "languageId": "r"
    },
    "deepnote_cell_type": "code",
    "deepnote_cell_height": 99
   },
   "source": "library(tidyverse)\nlibrary(evaluate)",
   "execution_count": 126,
   "outputs": []
  },
  {
   "cell_type": "markdown",
   "source": "## Import dataset",
   "metadata": {
    "cell_id": "3eb237f3f64842e4b4912cd338f628b8",
    "tags": [],
    "deepnote_cell_type": "markdown",
    "deepnote_cell_height": 70
   }
  },
  {
   "cell_type": "code",
   "metadata": {
    "cell_id": "cf90085d26784ed38c84996918ba9a9d",
    "deepnote_to_be_reexecuted": false,
    "execution_millis": 230,
    "execution_start": 1656338723987,
    "source_hash": "3026bddb",
    "tags": [],
    "vscode": {
     "languageId": "r"
    },
    "deepnote_cell_type": "code",
    "deepnote_cell_height": 562,
    "deepnote_output_heights": [
     393,
     393
    ]
   },
   "source": "df <- read_csv('NaiveBayesMNC/train_corrected.csv', col_types = 'icc')\nhead(df, 10)\n\nlabel_dict <- c('True', 'Not-Known', 'Mostly-True', 'Half-True', 'False', 'Barely-True')\nnames(label_dict) <- c('5', '4', '3', '2', '1', '0')",
   "execution_count": 2,
   "outputs": [
    {
     "data": {
      "text/html": "<table class=\"dataframe\">\n<caption>A tibble: 10 x 3</caption>\n<thead>\n\t<tr><th scope=col>Labels</th><th scope=col>Text</th><th scope=col>Text_Tag</th></tr>\n\t<tr><th scope=col>&lt;int&gt;</th><th scope=col>&lt;chr&gt;</th><th scope=col>&lt;chr&gt;</th></tr>\n</thead>\n<tbody>\n\t<tr><td>1</td><td>Says the Annies List political group supports third-trimester abortions on demand.                                                                             </td><td>abortion                                 </td></tr>\n\t<tr><td>2</td><td>When did the decline of coal start? It started when natural gas took off that started to begin in (President George W.) Bushs administration.                  </td><td>energy,history,job-accomplishments       </td></tr>\n\t<tr><td>3</td><td>Hillary Clinton agrees with John McCain \"by voting to give George Bush the benefit of the doubt on Iran.\"                                                      </td><td>foreign-policy                           </td></tr>\n\t<tr><td>1</td><td>Health care reform legislation is likely to mandate free sex change surgeries.                                                                                 </td><td>health-care                              </td></tr>\n\t<tr><td>2</td><td>The economic turnaround started at the end of my term.                                                                                                         </td><td>economy,jobs                             </td></tr>\n\t<tr><td>5</td><td>The Chicago Bears have had more starting quarterbacks in the last 10 years than the total number of tenured (UW) faculty fired during the last two decades.    </td><td>education                                </td></tr>\n\t<tr><td>0</td><td>Jim Dunnam has not lived in the district he represents for years now.                                                                                          </td><td>candidates-biography                     </td></tr>\n\t<tr><td>2</td><td>I'm the only person on this stage who has worked actively just last year passing, along with Russ Feingold, some of the toughest ethics reform since Watergate.</td><td>ethics                                   </td></tr>\n\t<tr><td>2</td><td>However, it took $19.5 million in Oregon Lottery funds for the Port of Newport to eventually land the new NOAA Marine Operations Center-Pacific.               </td><td>jobs                                     </td></tr>\n\t<tr><td>3</td><td>Says GOP primary opponents Glenn Grothman and Joe Leibham cast a compromise vote that cost $788 million in higher electricity costs.                           </td><td>energy,message-machine-2014,voting-record</td></tr>\n</tbody>\n</table>\n",
      "text/markdown": "\nA tibble: 10 x 3\n\n| Labels &lt;int&gt; | Text &lt;chr&gt; | Text_Tag &lt;chr&gt; |\n|---|---|---|\n| 1 | Says the Annies List political group supports third-trimester abortions on demand.                                                                              | abortion                                  |\n| 2 | When did the decline of coal start? It started when natural gas took off that started to begin in (President George W.) Bushs administration.                   | energy,history,job-accomplishments        |\n| 3 | Hillary Clinton agrees with John McCain \"by voting to give George Bush the benefit of the doubt on Iran.\"                                                       | foreign-policy                            |\n| 1 | Health care reform legislation is likely to mandate free sex change surgeries.                                                                                  | health-care                               |\n| 2 | The economic turnaround started at the end of my term.                                                                                                          | economy,jobs                              |\n| 5 | The Chicago Bears have had more starting quarterbacks in the last 10 years than the total number of tenured (UW) faculty fired during the last two decades.     | education                                 |\n| 0 | Jim Dunnam has not lived in the district he represents for years now.                                                                                           | candidates-biography                      |\n| 2 | I'm the only person on this stage who has worked actively just last year passing, along with Russ Feingold, some of the toughest ethics reform since Watergate. | ethics                                    |\n| 2 | However, it took $19.5 million in Oregon Lottery funds for the Port of Newport to eventually land the new NOAA Marine Operations Center-Pacific.                | jobs                                      |\n| 3 | Says GOP primary opponents Glenn Grothman and Joe Leibham cast a compromise vote that cost $788 million in higher electricity costs.                            | energy,message-machine-2014,voting-record |\n\n",
      "text/latex": "A tibble: 10 x 3\n\\begin{tabular}{lll}\n Labels & Text & Text\\_Tag\\\\\n <int> & <chr> & <chr>\\\\\n\\hline\n\t 1 & Says the Annies List political group supports third-trimester abortions on demand.                                                                              & abortion                                 \\\\\n\t 2 & When did the decline of coal start? It started when natural gas took off that started to begin in (President George W.) Bushs administration.                   & energy,history,job-accomplishments       \\\\\n\t 3 & Hillary Clinton agrees with John McCain \"by voting to give George Bush the benefit of the doubt on Iran.\"                                                       & foreign-policy                           \\\\\n\t 1 & Health care reform legislation is likely to mandate free sex change surgeries.                                                                                  & health-care                              \\\\\n\t 2 & The economic turnaround started at the end of my term.                                                                                                          & economy,jobs                             \\\\\n\t 5 & The Chicago Bears have had more starting quarterbacks in the last 10 years than the total number of tenured (UW) faculty fired during the last two decades.     & education                                \\\\\n\t 0 & Jim Dunnam has not lived in the district he represents for years now.                                                                                           & candidates-biography                     \\\\\n\t 2 & I'm the only person on this stage who has worked actively just last year passing, along with Russ Feingold, some of the toughest ethics reform since Watergate. & ethics                                   \\\\\n\t 2 & However, it took \\$19.5 million in Oregon Lottery funds for the Port of Newport to eventually land the new NOAA Marine Operations Center-Pacific.                & jobs                                     \\\\\n\t 3 & Says GOP primary opponents Glenn Grothman and Joe Leibham cast a compromise vote that cost \\$788 million in higher electricity costs.                            & energy,message-machine-2014,voting-record\\\\\n\\end{tabular}\n",
      "text/plain": "   Labels\n1  1     \n2  2     \n3  3     \n4  1     \n5  2     \n6  5     \n7  0     \n8  2     \n9  2     \n10 3     \n   Text                                                                                                                                                           \n1  Says the Annies List political group supports third-trimester abortions on demand.                                                                             \n2  When did the decline of coal start? It started when natural gas took off that started to begin in (President George W.) Bushs administration.                  \n3  Hillary Clinton agrees with John McCain \"by voting to give George Bush the benefit of the doubt on Iran.\"                                                      \n4  Health care reform legislation is likely to mandate free sex change surgeries.                                                                                 \n5  The economic turnaround started at the end of my term.                                                                                                         \n6  The Chicago Bears have had more starting quarterbacks in the last 10 years than the total number of tenured (UW) faculty fired during the last two decades.    \n7  Jim Dunnam has not lived in the district he represents for years now.                                                                                          \n8  I'm the only person on this stage who has worked actively just last year passing, along with Russ Feingold, some of the toughest ethics reform since Watergate.\n9  However, it took $19.5 million in Oregon Lottery funds for the Port of Newport to eventually land the new NOAA Marine Operations Center-Pacific.               \n10 Says GOP primary opponents Glenn Grothman and Joe Leibham cast a compromise vote that cost $788 million in higher electricity costs.                           \n   Text_Tag                                 \n1  abortion                                 \n2  energy,history,job-accomplishments       \n3  foreign-policy                           \n4  health-care                              \n5  economy,jobs                             \n6  education                                \n7  candidates-biography                     \n8  ethics                                   \n9  jobs                                     \n10 energy,message-machine-2014,voting-record"
     },
     "metadata": {},
     "output_type": "display_data"
    }
   ]
  },
  {
   "cell_type": "markdown",
   "source": "## Multinomial NB classifier implementation",
   "metadata": {
    "cell_id": "fe175de47af84c4ebf45848a752f63f9",
    "tags": [],
    "deepnote_cell_type": "markdown",
    "deepnote_cell_height": 70
   }
  },
  {
   "cell_type": "code",
   "metadata": {
    "vscode": {
     "languageId": "r"
    },
    "cell_id": "00006-8edfd544-25f4-4b95-bb44-4fa716103a63",
    "deepnote_to_be_reexecuted": false,
    "source_hash": "7f7a546a",
    "execution_start": 1656338724222,
    "execution_millis": 8,
    "deepnote_cell_type": "code",
    "deepnote_cell_height": 297
   },
   "source": "confusion_matrix <- function( predictions, true_labels) {\n    confusion_matrix <- matrix(rep(0, length(unique(true_labels))^2), ncol=length(unique(true_labels)))\n    colnames(confusion_matrix) <- paste('t', label_dict, sep='_')\n    rownames(confusion_matrix) <- paste('p', label_dict, sep='_')\n\n    for(j in 1:ncol(confusion_matrix)) {\n        for( i in 1:nrow(confusion_matrix)){\n            confusion_matrix[i,j] <- sum(predictions==names(label_dict)[i] & true_labels==names(label_dict)[j])\n        }    \n    }\n\n    return(confusion_matrix/length(predictions))\n}",
   "execution_count": 3,
   "outputs": []
  },
  {
   "cell_type": "code",
   "metadata": {
    "cell_id": "8be779e40f684c68860aeb45414fda61",
    "tags": [],
    "deepnote_to_be_reexecuted": false,
    "source_hash": "44414fc6",
    "execution_start": 1656338724237,
    "execution_millis": 102,
    "deepnote_cell_type": "code",
    "deepnote_cell_height": 153,
    "deepnote_output_heights": [
     21.1875
    ]
   },
   "source": "accuracy <- function(predictions, true_labels) {\n    predictions <- as.numeric(predictions)\n    true_labels <- as.numeric(true_labels)\n    sum(predictions==true_labels) / length(predictions)\n}",
   "execution_count": 4,
   "outputs": []
  },
  {
   "cell_type": "code",
   "metadata": {
    "cell_id": "4913f59c4c664822a33ca82bb616a974",
    "deepnote_to_be_reexecuted": false,
    "execution_millis": 0,
    "execution_start": 1656338724386,
    "source_hash": "cd79982f",
    "tags": [],
    "vscode": {
     "languageId": "r"
    },
    "deepnote_cell_type": "code",
    "deepnote_cell_height": 225
   },
   "source": "extract_vocabulary <- function(documents, unique=TRUE) {\n    words <- str_replace_all(documents, \"[:punct:]|[$]|[+]|[\\u0090]\", \" \")\n    words <- unlist(str_split(words, '[ ]|[\\n]|[\\t]'))\n    words <- words[words!='']\n    words <- casefold(words, upper = FALSE)\n    words <- str_replace(words, \"[:digit:]+\", \"isnumeric\")\n    if(unique) return(unique(words))\n    else return(words)\n}",
   "execution_count": 5,
   "outputs": []
  },
  {
   "cell_type": "code",
   "metadata": {
    "cell_id": "c980fd83928b40c9a9f359bc803fcb83",
    "tags": [],
    "deepnote_to_be_reexecuted": false,
    "source_hash": "d03ace87",
    "execution_start": 1656338724387,
    "execution_millis": 0,
    "deepnote_cell_type": "code",
    "deepnote_cell_height": 405
   },
   "source": "extract_alnum <- function(documents, unique=TRUE, filter_n=0, freq_n = 0) {\n    words <- str_replace_all(documents, \"[:digit:]+[.,]*[:digit:]*\", \"isnumeric\")\n    words <- unlist(str_extract_all(words, \"[:alnum:]+\"))\n    words <- words[words!='']\n    words <- casefold(words, upper = FALSE)\n    words <- words[!is.na(words)]\n    if(filter_n){\n        words <- words[nchar(words)>filter_n]\n    }\n\n    if(freq_n){\n        freq <- table(words)\n        words <- names(freq)[freq<freq_n]\n    }\n\n    if(unique) return(unique(words))\n    else return(words)\n\n}",
   "execution_count": 6,
   "outputs": []
  },
  {
   "cell_type": "code",
   "metadata": {
    "cell_id": "e73227cbe532453b9e41ce5397c7bfe6",
    "tags": [],
    "deepnote_to_be_reexecuted": false,
    "source_hash": "9c36ec15",
    "execution_start": 1656338724387,
    "execution_millis": 47,
    "deepnote_cell_type": "code",
    "deepnote_cell_height": 135,
    "deepnote_output_heights": [
     2,
     21.1875,
     21.1875
    ]
   },
   "source": "c <- extract_alnum(df[1,2],filter_n=0, freq_n=1)\ncc <- extract_alnum(df[1,2])\nc",
   "execution_count": 7,
   "outputs": [
    {
     "data": {
      "text/html": "",
      "text/markdown": "",
      "text/latex": "",
      "text/plain": "character(0)"
     },
     "metadata": {},
     "output_type": "display_data"
    }
   ]
  },
  {
   "cell_type": "code",
   "source": "",
   "metadata": {
    "cell_id": "69a3ec683e314040ad7ae9a97a6a5b67",
    "tags": [],
    "deepnote_to_be_reexecuted": false,
    "source_hash": "b623e53d",
    "execution_start": 1656338724431,
    "execution_millis": 0,
    "deepnote_cell_type": "code",
    "deepnote_cell_height": 81
   },
   "outputs": [],
   "execution_count": 8
  },
  {
   "cell_type": "code",
   "source": "",
   "metadata": {
    "cell_id": "066d43f3e2114bba8a867c56d4f2afb0",
    "tags": [],
    "deepnote_to_be_reexecuted": false,
    "source_hash": "b623e53d",
    "execution_start": 1656338724433,
    "execution_millis": 6,
    "deepnote_cell_type": "code",
    "deepnote_cell_height": 81
   },
   "outputs": [],
   "execution_count": 9
  },
  {
   "cell_type": "code",
   "metadata": {
    "cell_id": "a8ac7189a1844baab5d6b29de32aa7ce",
    "deepnote_to_be_reexecuted": false,
    "execution_millis": 0,
    "execution_start": 1656338724486,
    "source_hash": "66d3f2cf",
    "tags": [],
    "vscode": {
     "languageId": "r"
    },
    "deepnote_cell_type": "code",
    "deepnote_cell_height": 405
   },
   "source": "multinomNBC.fit <- function(documents, labels, filter_n=0, freq_n=0) {\n    # documents must be a list\n    \n    log.like  <- list()\n\n    # extract vocabulary\n    V <- extract_alnum(documents[[1]],filter_n = filter_n, freq_n = freq_n)\n    N <- length(documents[[1]])\n    log.prior <- log(table(labels)) - log(N)\n\n    for(l in unique(labels[[1]])) {\n        \n        text <- extract_alnum(documents[labels==l], unique=FALSE)\n        freq <- table(c(text, V))\n        log.like[[as.character(l)]] <- log(freq) - log(sum(freq))\n    }\n\n    return(list(log.likelihood=log.like, log.prior=log.prior, vocabulary=V[order(V)]))\n}",
   "execution_count": 10,
   "outputs": []
  },
  {
   "cell_type": "code",
   "metadata": {
    "cell_id": "6a3d3e6ad6f84ca3a74864e8eb95d7e2",
    "tags": [],
    "vscode": {
     "languageId": "r"
    },
    "deepnote_to_be_reexecuted": false,
    "source_hash": "a5515b95",
    "execution_start": 1656340717067,
    "execution_millis": 8,
    "deepnote_cell_type": "code",
    "deepnote_cell_height": 387
   },
   "source": "multinomNBC.predict <- function(doc, log.prior, log.likelihood, voc){\n\n    text <- extract_alnum(doc, unique=FALSE)\n    freq <- table(text)[voc]\n    freq <- freq[!is.na(freq)]\n    #print(freq)\n    scores <- rep(0, length(log.prior))\n    names(scores) <- dimnames(log.prior)$Labels\n\n    for( l in names(scores)) {\n        scores[l] <- log.prior[l] + sum(log.likelihood[[l]][dimnames(freq)$text] * freq)\n    }\n    \n    return(names(scores)[which.max(scores)])\n    # return(scores)\n}\n\nmultinomNBC.predict <- Vectorize(multinomNBC.predict, vectorize.args='doc', USE.NAMES=FALSE)",
   "execution_count": 63,
   "outputs": []
  },
  {
   "cell_type": "code",
   "metadata": {
    "cell_id": "47f9f03f406541508d7310b18cb666e4",
    "deepnote_to_be_reexecuted": false,
    "execution_millis": 466,
    "execution_start": 1656338724488,
    "source_hash": "f8eb4960",
    "tags": [],
    "vscode": {
     "languageId": "r"
    },
    "deepnote_cell_type": "code",
    "deepnote_cell_height": 210.5625,
    "deepnote_output_heights": [
     59.59375
    ]
   },
   "source": "nDoc <- dim(df)[1]\n\nresults <- multinomNBC.fit(df[1:nDoc, 2], df[1:nDoc, 1])\nresults$log.prior",
   "execution_count": 12,
   "outputs": [
    {
     "data": {
      "text/plain": "Labels\n        0         1         2         3         4         5 \n-1.824121 -1.636983 -1.576299 -1.653129 -2.501105 -1.808552 "
     },
     "metadata": {},
     "output_type": "display_data"
    }
   ]
  },
  {
   "cell_type": "code",
   "metadata": {
    "cell_id": "f1dff66a40f9424bbd4dc2d5794cc634",
    "deepnote_to_be_reexecuted": false,
    "execution_millis": 4288,
    "execution_start": 1656338724964,
    "source_hash": "19b66e84",
    "tags": [],
    "vscode": {
     "languageId": "r"
    },
    "deepnote_cell_type": "code",
    "deepnote_cell_height": 154.1875,
    "deepnote_output_heights": [
     21.1875,
     21.1875
    ]
   },
   "source": "pred <- Vectorize(multinomNBC.predict, vectorize.args='doc', USE.NAMES=FALSE)(df[1:1000, 2][[1]], results$log.prior, results$log.likelihood, results$vocabulary)\n\naccuracy(pred, df[1:1000, 1][[1]])",
   "execution_count": 13,
   "outputs": [
    {
     "data": {
      "text/html": "0.638",
      "text/markdown": "0.638",
      "text/latex": "0.638",
      "text/plain": "[1] 0.638"
     },
     "metadata": {},
     "output_type": "display_data"
    }
   ]
  },
  {
   "cell_type": "code",
   "metadata": {
    "cell_id": "988d67c98b0d497293bb67d316445fd6",
    "tags": [],
    "deepnote_to_be_reexecuted": false,
    "source_hash": "dacdabf8",
    "execution_start": 1656338766078,
    "execution_millis": 11,
    "deepnote_cell_type": "code",
    "deepnote_cell_height": 171,
    "deepnote_output_heights": [
     2
    ]
   },
   "source": "# for(i in seq_along(df$Text)) {\n#     if(str_detect(df$Text[i], 'NA')) {\n#         cat(df$Text[i], '\\n')\n#         cat(label_dict[as.character(df$Labels[i])], '\\n\\n')\n#     }\n# }",
   "execution_count": 15,
   "outputs": []
  },
  {
   "cell_type": "code",
   "metadata": {
    "cell_id": "2ec7d732ce11421686ecdc1928a66a5d",
    "deepnote_to_be_reexecuted": false,
    "execution_millis": 151,
    "execution_start": 1656338768704,
    "source_hash": "14bb8eb8",
    "tags": [],
    "vscode": {
     "languageId": "r"
    },
    "deepnote_cell_type": "code",
    "deepnote_cell_height": 260.375,
    "deepnote_output_heights": [
     21.1875,
     21.1875
    ]
   },
   "source": "#our vocabulary\nvoc <- extract_alnum(df[, 2][[1]], unique=TRUE)\n# which(is.na(voc))\nlength(voc)\nsum(is.na(voc))\n",
   "execution_count": 16,
   "outputs": [
    {
     "data": {
      "text/html": "11624",
      "text/markdown": "11624",
      "text/latex": "11624",
      "text/plain": "[1] 11624"
     },
     "metadata": {},
     "output_type": "display_data"
    },
    {
     "data": {
      "text/html": "0",
      "text/markdown": "0",
      "text/latex": "0",
      "text/plain": "[1] 0"
     },
     "metadata": {},
     "output_type": "display_data"
    }
   ]
  },
  {
   "cell_type": "markdown",
   "source": "## Feature reduction",
   "metadata": {
    "cell_id": "ef8218e886a647e9a5d4169c0474705b",
    "tags": [],
    "deepnote_cell_type": "markdown",
    "deepnote_cell_height": 70
   }
  },
  {
   "cell_type": "markdown",
   "source": "### Prediction sul training set ",
   "metadata": {
    "cell_id": "941757c352c24a51a87ffe4ac80d9f30",
    "tags": [],
    "deepnote_cell_type": "markdown",
    "deepnote_cell_height": 62
   }
  },
  {
   "cell_type": "code",
   "metadata": {
    "cell_id": "0a161f13ecaa4f5c94184b152350f686",
    "tags": [],
    "deepnote_to_be_reexecuted": false,
    "source_hash": "2f509e18",
    "execution_start": 1656338774124,
    "execution_millis": 387,
    "deepnote_cell_type": "code",
    "deepnote_cell_height": 192.5625,
    "deepnote_output_heights": [
     59.59375
    ]
   },
   "source": "nDoc <- dim(df)[1]\nresults_red <- multinomNBC.fit(df[1:nDoc, 2], df[1:nDoc, 1], filter_n = 2)\nresults_red$log.prior",
   "execution_count": 17,
   "outputs": [
    {
     "data": {
      "text/plain": "Labels\n        0         1         2         3         4         5 \n-1.824121 -1.636983 -1.576299 -1.653129 -2.501105 -1.808552 "
     },
     "metadata": {},
     "output_type": "display_data"
    }
   ]
  },
  {
   "cell_type": "code",
   "metadata": {
    "cell_id": "164e8ecb412e4be6aff508896c7c30df",
    "tags": [],
    "deepnote_to_be_reexecuted": false,
    "source_hash": "ac1b9dbe",
    "execution_start": 1656338775746,
    "execution_millis": 4296,
    "deepnote_cell_type": "code",
    "deepnote_cell_height": 136.1875,
    "deepnote_output_heights": [
     21.1875
    ]
   },
   "source": "pred_red <- Vectorize(multinomNBC.predict, vectorize.args='doc', USE.NAMES=FALSE)(df[1:1000, 2][[1]], results_red$log.prior, results_red$log.likelihood, results_red$vocabulary)\naccuracy(pred_red, df[1:1000, 1][[1]])",
   "execution_count": 18,
   "outputs": [
    {
     "data": {
      "text/html": "0.644",
      "text/markdown": "0.644",
      "text/latex": "0.644",
      "text/plain": "[1] 0.644"
     },
     "metadata": {},
     "output_type": "display_data"
    }
   ]
  },
  {
   "cell_type": "code",
   "metadata": {
    "cell_id": "5739da8bdff646c6b431f7b7a4e73466",
    "tags": [],
    "deepnote_to_be_reexecuted": false,
    "source_hash": "217e6628",
    "execution_start": 1656338780041,
    "execution_millis": 4,
    "deepnote_cell_type": "code",
    "deepnote_cell_height": 345,
    "deepnote_output_heights": [
     248,
     248
    ]
   },
   "source": "confusion_matrix(pred_red, df[1:1000, 1][[1]])",
   "execution_count": 19,
   "outputs": [
    {
     "data": {
      "text/html": "<table class=\"dataframe\">\n<caption>A matrix: 6 x 6 of type dbl</caption>\n<thead>\n\t<tr><th></th><th scope=col>t_True</th><th scope=col>t_Not-Known</th><th scope=col>t_Mostly-True</th><th scope=col>t_Half-True</th><th scope=col>t_False</th><th scope=col>t_Barely-True</th></tr>\n</thead>\n<tbody>\n\t<tr><th scope=row>p_True</th><td>0.096</td><td>0.006</td><td>0.005</td><td>0.011</td><td>0.014</td><td>0.007</td></tr>\n\t<tr><th scope=row>p_Not-Known</th><td>0.000</td><td>0.036</td><td>0.000</td><td>0.000</td><td>0.000</td><td>0.001</td></tr>\n\t<tr><th scope=row>p_Mostly-True</th><td>0.022</td><td>0.011</td><td>0.150</td><td>0.029</td><td>0.027</td><td>0.026</td></tr>\n\t<tr><th scope=row>p_Half-True</th><td>0.027</td><td>0.013</td><td>0.022</td><td>0.146</td><td>0.026</td><td>0.016</td></tr>\n\t<tr><th scope=row>p_False</th><td>0.013</td><td>0.007</td><td>0.013</td><td>0.013</td><td>0.130</td><td>0.010</td></tr>\n\t<tr><th scope=row>p_Barely-True</th><td>0.006</td><td>0.007</td><td>0.007</td><td>0.011</td><td>0.006</td><td>0.086</td></tr>\n</tbody>\n</table>\n",
      "text/markdown": "\nA matrix: 6 x 6 of type dbl\n\n| <!--/--> | t_True | t_Not-Known | t_Mostly-True | t_Half-True | t_False | t_Barely-True |\n|---|---|---|---|---|---|---|\n| p_True | 0.096 | 0.006 | 0.005 | 0.011 | 0.014 | 0.007 |\n| p_Not-Known | 0.000 | 0.036 | 0.000 | 0.000 | 0.000 | 0.001 |\n| p_Mostly-True | 0.022 | 0.011 | 0.150 | 0.029 | 0.027 | 0.026 |\n| p_Half-True | 0.027 | 0.013 | 0.022 | 0.146 | 0.026 | 0.016 |\n| p_False | 0.013 | 0.007 | 0.013 | 0.013 | 0.130 | 0.010 |\n| p_Barely-True | 0.006 | 0.007 | 0.007 | 0.011 | 0.006 | 0.086 |\n\n",
      "text/latex": "A matrix: 6 x 6 of type dbl\n\\begin{tabular}{r|llllll}\n  & t\\_True & t\\_Not-Known & t\\_Mostly-True & t\\_Half-True & t\\_False & t\\_Barely-True\\\\\n\\hline\n\tp\\_True & 0.096 & 0.006 & 0.005 & 0.011 & 0.014 & 0.007\\\\\n\tp\\_Not-Known & 0.000 & 0.036 & 0.000 & 0.000 & 0.000 & 0.001\\\\\n\tp\\_Mostly-True & 0.022 & 0.011 & 0.150 & 0.029 & 0.027 & 0.026\\\\\n\tp\\_Half-True & 0.027 & 0.013 & 0.022 & 0.146 & 0.026 & 0.016\\\\\n\tp\\_False & 0.013 & 0.007 & 0.013 & 0.013 & 0.130 & 0.010\\\\\n\tp\\_Barely-True & 0.006 & 0.007 & 0.007 & 0.011 & 0.006 & 0.086\\\\\n\\end{tabular}\n",
      "text/plain": "              t_True t_Not-Known t_Mostly-True t_Half-True t_False\np_True        0.096  0.006       0.005         0.011       0.014  \np_Not-Known   0.000  0.036       0.000         0.000       0.000  \np_Mostly-True 0.022  0.011       0.150         0.029       0.027  \np_Half-True   0.027  0.013       0.022         0.146       0.026  \np_False       0.013  0.007       0.013         0.013       0.130  \np_Barely-True 0.006  0.007       0.007         0.011       0.006  \n              t_Barely-True\np_True        0.007        \np_Not-Known   0.001        \np_Mostly-True 0.026        \np_Half-True   0.016        \np_False       0.010        \np_Barely-True 0.086        "
     },
     "metadata": {},
     "output_type": "display_data"
    }
   ]
  },
  {
   "cell_type": "markdown",
   "source": "### Prediction sul test set ",
   "metadata": {
    "cell_id": "961b84b1a3f24333b54cd15578d6eee9",
    "tags": [],
    "deepnote_cell_type": "markdown",
    "deepnote_cell_height": 62
   }
  },
  {
   "cell_type": "code",
   "metadata": {
    "cell_id": "cb1b7263a04845acbd71d4bba202a6cd",
    "tags": [],
    "deepnote_to_be_reexecuted": false,
    "source_hash": "31971309",
    "execution_start": 1656338780044,
    "execution_millis": 2388,
    "deepnote_cell_type": "code",
    "deepnote_cell_height": 190.1875,
    "deepnote_output_heights": [
     21.1875
    ]
   },
   "source": "nDoc <- dim(df)[1]\nresults_test <- multinomNBC.fit(df[1:(nDoc-500), 2], df[1:(nDoc-500), 1], filter_n = 5)\n\npred_test <- Vectorize(multinomNBC.predict, vectorize.args='doc', USE.NAMES=FALSE)(df[(nDoc+1-500):nDoc, 2][[1]], results_test$log.prior, results_test$log.likelihood, results_test$vocabulary)\naccuracy(pred_test, df[(nDoc+1-500):nDoc, 1][[1]])",
   "execution_count": 20,
   "outputs": [
    {
     "data": {
      "text/html": "0.246",
      "text/markdown": "0.246",
      "text/latex": "0.246",
      "text/plain": "[1] 0.246"
     },
     "metadata": {},
     "output_type": "display_data"
    }
   ]
  },
  {
   "cell_type": "code",
   "metadata": {
    "cell_id": "8c96a620319249009bdb797c50e6ea70",
    "tags": [],
    "deepnote_to_be_reexecuted": false,
    "source_hash": "f3d5fef",
    "execution_start": 1656338782432,
    "execution_millis": 125,
    "deepnote_cell_type": "code",
    "deepnote_cell_height": 980,
    "deepnote_output_heights": [
     248,
     248
    ]
   },
   "source": "confusion_matrix(pred_test, df[(nDoc-500):nDoc, 1][[1]])",
   "execution_count": 21,
   "outputs": [
    {
     "name": "stderr",
     "text": "Warning message in predictions == names(label_dict)[i] & true_labels == names(label_dict)[j]:\n“longer object length is not a multiple of shorter object length”\nWarning message in predictions == names(label_dict)[i] & true_labels == names(label_dict)[j]:\n“longer object length is not a multiple of shorter object length”\nWarning message in predictions == names(label_dict)[i] & true_labels == names(label_dict)[j]:\n“longer object length is not a multiple of shorter object length”\nWarning message in predictions == names(label_dict)[i] & true_labels == names(label_dict)[j]:\n“longer object length is not a multiple of shorter object length”\nWarning message in predictions == names(label_dict)[i] & true_labels == names(label_dict)[j]:\n“longer object length is not a multiple of shorter object length”\nWarning message in predictions == names(label_dict)[i] & true_labels == names(label_dict)[j]:\n“longer object length is not a multiple of shorter object length”\nWarning message in predictions == names(label_dict)[i] & true_labels == names(label_dict)[j]:\n“longer object length is not a multiple of shorter object length”\nWarning message in predictions == names(label_dict)[i] & true_labels == names(label_dict)[j]:\n“longer object length is not a multiple of shorter object length”\nWarning message in predictions == names(label_dict)[i] & true_labels == names(label_dict)[j]:\n“longer object length is not a multiple of shorter object length”\nWarning message in predictions == names(label_dict)[i] & true_labels == names(label_dict)[j]:\n“longer object length is not a multiple of shorter object length”\nWarning message in predictions == names(label_dict)[i] & true_labels == names(label_dict)[j]:\n“longer object length is not a multiple of shorter object length”\nWarning message in predictions == names(label_dict)[i] & true_labels == names(label_dict)[j]:\n“longer object length is not a multiple of shorter object length”\nWarning message in predictions == names(label_dict)[i] & true_labels == names(label_dict)[j]:\n“longer object length is not a multiple of shorter object length”\nWarning message in predictions == names(label_dict)[i] & true_labels == names(label_dict)[j]:\n“longer object length is not a multiple of shorter object length”\nWarning message in predictions == names(label_dict)[i] & true_labels == names(label_dict)[j]:\n“longer object length is not a multiple of shorter object length”\nWarning message in predictions == names(label_dict)[i] & true_labels == names(label_dict)[j]:\n“longer object length is not a multiple of shorter object length”\nWarning message in predictions == names(label_dict)[i] & true_labels == names(label_dict)[j]:\n“longer object length is not a multiple of shorter object length”\nWarning message in predictions == names(label_dict)[i] & true_labels == names(label_dict)[j]:\n“longer object length is not a multiple of shorter object length”\nWarning message in predictions == names(label_dict)[i] & true_labels == names(label_dict)[j]:\n“longer object length is not a multiple of shorter object length”\nWarning message in predictions == names(label_dict)[i] & true_labels == names(label_dict)[j]:\n“longer object length is not a multiple of shorter object length”\nWarning message in predictions == names(label_dict)[i] & true_labels == names(label_dict)[j]:\n“longer object length is not a multiple of shorter object length”\nWarning message in predictions == names(label_dict)[i] & true_labels == names(label_dict)[j]:\n“longer object length is not a multiple of shorter object length”\nWarning message in predictions == names(label_dict)[i] & true_labels == names(label_dict)[j]:\n“longer object length is not a multiple of shorter object length”\nWarning message in predictions == names(label_dict)[i] & true_labels == names(label_dict)[j]:\n“longer object length is not a multiple of shorter object length”\nWarning message in predictions == names(label_dict)[i] & true_labels == names(label_dict)[j]:\n“longer object length is not a multiple of shorter object length”\nWarning message in predictions == names(label_dict)[i] & true_labels == names(label_dict)[j]:\n“longer object length is not a multiple of shorter object length”\nWarning message in predictions == names(label_dict)[i] & true_labels == names(label_dict)[j]:\n“longer object length is not a multiple of shorter object length”\nWarning message in predictions == names(label_dict)[i] & true_labels == names(label_dict)[j]:\n“longer object length is not a multiple of shorter object length”\nWarning message in predictions == names(label_dict)[i] & true_labels == names(label_dict)[j]:\n“longer object length is not a multiple of shorter object length”\nWarning message in predictions == names(label_dict)[i] & true_labels == names(label_dict)[j]:\n“longer object length is not a multiple of shorter object length”\nWarning message in predictions == names(label_dict)[i] & true_labels == names(label_dict)[j]:\n“longer object length is not a multiple of shorter object length”\nWarning message in predictions == names(label_dict)[i] & true_labels == names(label_dict)[j]:\n“longer object length is not a multiple of shorter object length”\nWarning message in predictions == names(label_dict)[i] & true_labels == names(label_dict)[j]:\n“longer object length is not a multiple of shorter object length”\nWarning message in predictions == names(label_dict)[i] & true_labels == names(label_dict)[j]:\n“longer object length is not a multiple of shorter object length”\nWarning message in predictions == names(label_dict)[i] & true_labels == names(label_dict)[j]:\n“longer object length is not a multiple of shorter object length”\nWarning message in predictions == names(label_dict)[i] & true_labels == names(label_dict)[j]:\n“longer object length is not a multiple of shorter object length”\n",
     "output_type": "stream"
    },
    {
     "data": {
      "text/html": "<table class=\"dataframe\">\n<caption>A matrix: 6 x 6 of type dbl</caption>\n<thead>\n\t<tr><th></th><th scope=col>t_True</th><th scope=col>t_Not-Known</th><th scope=col>t_Mostly-True</th><th scope=col>t_Half-True</th><th scope=col>t_False</th><th scope=col>t_Barely-True</th></tr>\n</thead>\n<tbody>\n\t<tr><th scope=row>p_True</th><td>0.012</td><td>0.010</td><td>0.024</td><td>0.022</td><td>0.034</td><td>0.026</td></tr>\n\t<tr><th scope=row>p_Not-Known</th><td>0.018</td><td>0.012</td><td>0.006</td><td>0.010</td><td>0.012</td><td>0.004</td></tr>\n\t<tr><th scope=row>p_Mostly-True</th><td>0.032</td><td>0.026</td><td>0.046</td><td>0.044</td><td>0.024</td><td>0.032</td></tr>\n\t<tr><th scope=row>p_Half-True</th><td>0.050</td><td>0.018</td><td>0.032</td><td>0.068</td><td>0.072</td><td>0.038</td></tr>\n\t<tr><th scope=row>p_False</th><td>0.040</td><td>0.012</td><td>0.040</td><td>0.040</td><td>0.026</td><td>0.032</td></tr>\n\t<tr><th scope=row>p_Barely-True</th><td>0.022</td><td>0.016</td><td>0.036</td><td>0.030</td><td>0.018</td><td>0.018</td></tr>\n</tbody>\n</table>\n",
      "text/markdown": "\nA matrix: 6 x 6 of type dbl\n\n| <!--/--> | t_True | t_Not-Known | t_Mostly-True | t_Half-True | t_False | t_Barely-True |\n|---|---|---|---|---|---|---|\n| p_True | 0.012 | 0.010 | 0.024 | 0.022 | 0.034 | 0.026 |\n| p_Not-Known | 0.018 | 0.012 | 0.006 | 0.010 | 0.012 | 0.004 |\n| p_Mostly-True | 0.032 | 0.026 | 0.046 | 0.044 | 0.024 | 0.032 |\n| p_Half-True | 0.050 | 0.018 | 0.032 | 0.068 | 0.072 | 0.038 |\n| p_False | 0.040 | 0.012 | 0.040 | 0.040 | 0.026 | 0.032 |\n| p_Barely-True | 0.022 | 0.016 | 0.036 | 0.030 | 0.018 | 0.018 |\n\n",
      "text/latex": "A matrix: 6 x 6 of type dbl\n\\begin{tabular}{r|llllll}\n  & t\\_True & t\\_Not-Known & t\\_Mostly-True & t\\_Half-True & t\\_False & t\\_Barely-True\\\\\n\\hline\n\tp\\_True & 0.012 & 0.010 & 0.024 & 0.022 & 0.034 & 0.026\\\\\n\tp\\_Not-Known & 0.018 & 0.012 & 0.006 & 0.010 & 0.012 & 0.004\\\\\n\tp\\_Mostly-True & 0.032 & 0.026 & 0.046 & 0.044 & 0.024 & 0.032\\\\\n\tp\\_Half-True & 0.050 & 0.018 & 0.032 & 0.068 & 0.072 & 0.038\\\\\n\tp\\_False & 0.040 & 0.012 & 0.040 & 0.040 & 0.026 & 0.032\\\\\n\tp\\_Barely-True & 0.022 & 0.016 & 0.036 & 0.030 & 0.018 & 0.018\\\\\n\\end{tabular}\n",
      "text/plain": "              t_True t_Not-Known t_Mostly-True t_Half-True t_False\np_True        0.012  0.010       0.024         0.022       0.034  \np_Not-Known   0.018  0.012       0.006         0.010       0.012  \np_Mostly-True 0.032  0.026       0.046         0.044       0.024  \np_Half-True   0.050  0.018       0.032         0.068       0.072  \np_False       0.040  0.012       0.040         0.040       0.026  \np_Barely-True 0.022  0.016       0.036         0.030       0.018  \n              t_Barely-True\np_True        0.026        \np_Not-Known   0.004        \np_Mostly-True 0.032        \np_Half-True   0.038        \np_False       0.032        \np_Barely-True 0.018        "
     },
     "metadata": {},
     "output_type": "display_data"
    }
   ]
  },
  {
   "cell_type": "markdown",
   "source": "file corrotti che sono stati sistemati sono dal 1282 al 12..",
   "metadata": {
    "cell_id": "092514867f17415f96e4b60d463a9dc9",
    "tags": [],
    "deepnote_cell_type": "markdown",
    "deepnote_cell_height": 52.390625
   }
  },
  {
   "cell_type": "markdown",
   "source": "### Avoid Overfitting",
   "metadata": {
    "cell_id": "1f8ebe0d92b242f48af990bb85979bfa",
    "tags": [],
    "deepnote_cell_type": "markdown",
    "deepnote_cell_height": 62
   }
  },
  {
   "cell_type": "code",
   "metadata": {
    "cell_id": "4cc7df8b4ba34a13acfec1326b066e4d",
    "tags": [],
    "deepnote_to_be_reexecuted": false,
    "source_hash": "13522bdf",
    "execution_start": 1656338782556,
    "execution_millis": 4203,
    "deepnote_cell_type": "code",
    "deepnote_cell_height": 208.1875,
    "deepnote_output_heights": [
     21.1875,
     21.1875
    ]
   },
   "source": "test <- 1000\n\nresults_freq <- multinomNBC.fit(df[1:(nDoc-test), 2], df[1:(nDoc-test), 1], filter_n = 2, freq_n = 60)\n\npred_freq <- multinomNBC.predict(df[(nDoc-test+1):nDoc, 2][[1]], results_freq$log.prior, results_freq$log.likelihood, results_freq$vocabulary)\naccuracy(pred_freq, df[(nDoc-test+1):nDoc, 1][[1]])",
   "execution_count": 22,
   "outputs": [
    {
     "data": {
      "text/html": "0.217",
      "text/markdown": "0.217",
      "text/latex": "0.217",
      "text/plain": "[1] 0.217"
     },
     "metadata": {},
     "output_type": "display_data"
    }
   ]
  },
  {
   "cell_type": "markdown",
   "source": "# Building&nbsp;mutual&nbsp;information",
   "metadata": {
    "cell_id": "9b200ae7809847d3b9e64724421e0753",
    "tags": [],
    "is_collapsed": false,
    "formattedRanges": [],
    "deepnote_cell_type": "text-cell-h1"
   }
  },
  {
   "cell_type": "code",
   "metadata": {
    "cell_id": "7c5aeed49a9b450f87818f3d7bacf4a4",
    "tags": [],
    "deepnote_to_be_reexecuted": false,
    "source_hash": "f8dad5a",
    "execution_start": 1656338786767,
    "execution_millis": 38,
    "deepnote_cell_type": "code",
    "deepnote_cell_height": 261
   },
   "source": "mutual_information <- function(N11,N10,N01,N00){\n    N   <- N11 + N10 + N01 + N00\n    N1  <- N11 + N10\n    N.1 <- N11 + N01\n    N0  <- N00 + N01\n    N.0 <- N00 + N10\n\n    # MI  <- N11/N * (log2(N)+log2(N11) -log2(N1)-log2(N.1)) + N01/N * log2(N*N01/(N0*N.1)) #+ N10/N * log2(N*N10/(N1*N.0)) + N00/N * log2(N*N00/(N0*N.0))\n    MI  <- N11/N * (log2(N)+log2(N11) - log2(N1)- log2(N.1)) + N01/N * (log2(N)+log2(N01) - log2(N0)-log2(N.1)) + N10/N * (log2(N)+log2(N10) - log2(N1)- log2(N.0)) + N00/N * (log2(N)+log2(N00) - log2(N0)- log2(N.0))\n    return(MI)\n}",
   "execution_count": 23,
   "outputs": []
  },
  {
   "cell_type": "code",
   "metadata": {
    "cell_id": "7b7287299fed4c58bcc4cbc3e98ca0a0",
    "tags": [],
    "deepnote_to_be_reexecuted": false,
    "source_hash": "3d5eccd",
    "execution_start": 1656338786806,
    "execution_millis": 45,
    "deepnote_cell_type": "code",
    "deepnote_cell_height": 226.1875,
    "deepnote_output_heights": [
     21.1875,
     21.1875,
     21.1875,
     2
    ]
   },
   "source": "words <- extract_alnum(df[df$Labels==0,2][[1]],unique=FALSE)\nfrase1 <- \"Ciao sono Pietro e ho 23 anni\"\nfrase1 <- casefold(frase1, upper = FALSE)\n\nfrasi <- c(\"ciao sono Pietro\",\"Pietro mi chiamo\",\"non mi chiamo Alberto\")\nfrasi <- casefold(frasi, upper=FALSE)\ngrepl(\"pietro\",frasi)",
   "execution_count": 24,
   "outputs": [
    {
     "data": {
      "text/html": "<style>\n.list-inline {list-style: none; margin:0; padding: 0}\n.list-inline>li {display: inline-block}\n.list-inline>li:not(:last-child)::after {content: \"\\00b7\"; padding: 0 .5ex}\n</style>\n<ol class=list-inline><li>TRUE</li><li>TRUE</li><li>FALSE</li></ol>\n",
      "text/markdown": "1. TRUE\n2. TRUE\n3. FALSE\n\n\n",
      "text/latex": "\\begin{enumerate*}\n\\item TRUE\n\\item TRUE\n\\item FALSE\n\\end{enumerate*}\n",
      "text/plain": "[1]  TRUE  TRUE FALSE"
     },
     "metadata": {},
     "output_type": "display_data"
    }
   ]
  },
  {
   "cell_type": "code",
   "metadata": {
    "cell_id": "bb6d8176488a4c518cee28b8a1d372e8",
    "tags": [],
    "deepnote_to_be_reexecuted": false,
    "source_hash": "9df3d987",
    "execution_start": 1656338786850,
    "execution_millis": 0,
    "deepnote_cell_type": "code",
    "deepnote_cell_height": 189,
    "deepnote_output_heights": [
     21.1875
    ]
   },
   "source": "N_11 <- c(\"w0\",\"w1\",\"w2\",\"w3\",\"w4\",\"w5\")\nN_10 <- c(\"wnot0\",\"wnot1\",\"wnot2\",\"wnot3\",\"wnot4\",\"wnot5\")\nN_01 <- c(\"notw0\",\"notw1\",\"notw2\",\"notw3\",\"notw4\",\"notw5\")\nN_00 <- c(\"notwnot0\",\"notwnot1\",\"notwnot2\",\"notwnot3\",\"notwnot4\",\"notwnot5\")\n\ncol  <- c(sort(unique(df$Labels)), N_10, N_01, N_00)\n",
   "execution_count": 25,
   "outputs": []
  },
  {
   "cell_type": "code",
   "metadata": {
    "cell_id": "62ce4ac408684744b16390d7c603b6c6",
    "tags": [],
    "deepnote_to_be_reexecuted": false,
    "source_hash": "e76f1a7f",
    "execution_start": 1656338786851,
    "execution_millis": 23467,
    "deepnote_cell_type": "code",
    "deepnote_cell_height": 315,
    "deepnote_output_heights": [
     98
    ]
   },
   "source": "voc <- extract_alnum(df[, 2][[1]], unique=TRUE)\n\nwords_df <- data.frame(matrix(nrow=length(voc[1:500]),ncol=(length(col))),row.names=voc[1:500])\ncolnames(words_df) <- col\n\nfor (word in voc[1:500]){\n    for (l in unique(df$Labels)){\n        #aggiungo al elemento [word,l] il numero di documenti con label l che contengono word\n        words_df[word,as.character(l)] <- sum(grepl(word,casefold(df$Text[df$Labels==l])))   #evaluate N_00\n    }\n    for (i in seq_along(N_10)){\n        words_df[word,N_10[i]] <- sum(words_df[word,][-c(i,7:24)],na.rm=TRUE) #evaluate N_10\n    }\n}",
   "execution_count": 26,
   "outputs": []
  },
  {
   "cell_type": "code",
   "source": "for (word in voc[1:500]){\n    for (i in seq_along(N_10)){\n\n        words_df[word,N_01[i]] <- sum(words_df[-which(row.names(words_df)==word),i],na.rm=TRUE) #evaluate N_01\n\n        words_df[word,N_00[i]] <- sum(words_df[-which(row.names(words_df)==word),-c(i,7:24)],na.rm=TRUE) #evaluate N_00\n        \n    }\n}",
   "metadata": {
    "cell_id": "39ade1c94b0d41f487147e8b770e20fd",
    "tags": [],
    "deepnote_to_be_reexecuted": false,
    "source_hash": "7a5752a2",
    "execution_start": 1656338810326,
    "execution_millis": 1078,
    "deepnote_cell_type": "code",
    "deepnote_cell_height": 225
   },
   "outputs": [],
   "execution_count": 27
  },
  {
   "cell_type": "code",
   "source": "# head(words_df,10)",
   "metadata": {
    "cell_id": "65c9d8fee1614128989e9717b9dc6b4b",
    "tags": [],
    "deepnote_to_be_reexecuted": false,
    "source_hash": "bb763f37",
    "execution_start": 1656338811410,
    "execution_millis": 6,
    "deepnote_cell_type": "code",
    "deepnote_cell_height": 81,
    "deepnote_output_heights": [
     393
    ]
   },
   "outputs": [],
   "execution_count": 28
  },
  {
   "cell_type": "code",
   "source": "Labs <- sort(unique(df$Labels))\nMI_df <- data.frame(matrix(nrow=length(voc[1:10]),ncol=(length(Labs))),row.names=voc[1:10])\ncolnames(MI_df) <- Labs\n\nfor (word in voc[1:500]){\n    for (i in seq_along(Labs)){\n        MI_df[word, i] <- mutual_information(words_df[word,i],words_df[word,i+6],words_df[word,i+12],words_df[word,i+18])\n    }\n}",
   "metadata": {
    "cell_id": "81b1d50e1a3d41729068a394a0184c4e",
    "tags": [],
    "deepnote_to_be_reexecuted": false,
    "source_hash": "5169747c",
    "execution_start": 1656338811422,
    "execution_millis": 450,
    "deepnote_cell_type": "code",
    "deepnote_cell_height": 225,
    "deepnote_output_heights": [
     21.1875
    ]
   },
   "outputs": [],
   "execution_count": 29
  },
  {
   "cell_type": "markdown",
   "source": "#### Mutual information on all the vocabulary",
   "metadata": {
    "cell_id": "d5b6973aff1a4f40b6c90dcfa20c593a",
    "tags": [],
    "deepnote_cell_type": "markdown",
    "deepnote_cell_height": 54
   }
  },
  {
   "cell_type": "code",
   "source": "# FIRST WE BUILD WORDS_DF\nvoc <- extract_alnum(df[, 2][[1]], unique=TRUE)\n\nwords_df <- data.frame(matrix(nrow=length(voc),ncol=(length(col))),row.names=voc)\ncolnames(words_df) <- col\n\nfor (word in voc){\n    for (l in unique(df$Labels)){\n        #aggiungo al elemento [word,l] il numero di documenti con label l che contengono word\n        words_df[word,as.character(l)] <- sum(grepl(word,casefold(df$Text[df$Labels==l])))   #evaluate N_00\n    }\n    for (i in seq_along(N_10)){\n        words_df[word,N_10[i]] <- sum(words_df[word,][-c(i,7:24)],na.rm=TRUE) #evaluate N_10\n    }\n}\nfor (word in voc){\n    for (i in seq_along(N_10)){\n\n        words_df[word,N_01[i]] <- sum(words_df[-which(row.names(words_df)==word),i],na.rm=TRUE) #evaluate N_01\n\n        words_df[word,N_00[i]] <- sum(words_df[-which(row.names(words_df)==word),-c(i,7:24)],na.rm=TRUE) #evaluate N_00\n        \n    }\n}\n\n# THEN WE BUILD THE MI DF\n\nLabs <- sort(unique(df$Labels))\nMI_df <- data.frame(matrix(nrow=length(voc),ncol=(length(Labs))),row.names=voc)\ncolnames(MI_df) <- Labs\n\nfor (word in voc){\n    for (i in seq_along(Labs)){\n        MI_df[word, i] <- mutual_information(words_df[word,i],words_df[word,i+6],words_df[word,i+12],words_df[word,i+18])\n    }\n}",
   "metadata": {
    "cell_id": "cecd5b5edb194fafb3045547b95626de",
    "tags": [],
    "deepnote_to_be_reexecuted": false,
    "source_hash": "815870a3",
    "execution_start": 1656339388551,
    "execution_millis": 759094,
    "deepnote_cell_type": "code",
    "deepnote_cell_height": 711
   },
   "outputs": [],
   "execution_count": 31
  },
  {
   "cell_type": "code",
   "source": "mi <- MI_df\n\n# mi <- mi %>% mutate_if(.,apply(.,2,is.nan),0)\nmi$'0'[is.nan(mi$'0')] <- 0\nmi$'1'[is.nan(mi$'1')] <- 0\nmi$'2'[is.nan(mi$'2')] <- 0\nmi$'3'[is.nan(mi$'3')] <- 0\nmi$'4'[is.nan(mi$'4')] <- 0\nmi$'5'[is.nan(mi$'5')] <- 0\n\nL <- as.character(Labs)\n# for (i in L){\n#     mi$i[is.nan(mi$i)] <- 0\n# }\nhead(mi)",
   "metadata": {
    "cell_id": "c298ee7663b74c9e96b8fd1d10df2fd6",
    "tags": [],
    "deepnote_to_be_reexecuted": false,
    "source_hash": "6b295abd",
    "execution_start": 1656340147651,
    "execution_millis": 328,
    "deepnote_cell_type": "code",
    "deepnote_cell_height": 626,
    "deepnote_output_heights": [
     277
    ]
   },
   "outputs": [
    {
     "data": {
      "text/html": "<table class=\"dataframe\">\n<caption>A data.frame: 6 x 6</caption>\n<thead>\n\t<tr><th></th><th scope=col>0</th><th scope=col>1</th><th scope=col>2</th><th scope=col>3</th><th scope=col>4</th><th scope=col>5</th></tr>\n\t<tr><th></th><th scope=col>&lt;dbl&gt;</th><th scope=col>&lt;dbl&gt;</th><th scope=col>&lt;dbl&gt;</th><th scope=col>&lt;dbl&gt;</th><th scope=col>&lt;dbl&gt;</th><th scope=col>&lt;dbl&gt;</th></tr>\n</thead>\n<tbody>\n\t<tr><th scope=row>says</th><td>1.154849e-05</td><td>2.573665e-06</td><td>6.753102e-07</td><td>7.517013e-06</td><td>8.166449e-06</td><td>1.356008e-05</td></tr>\n\t<tr><th scope=row>the</th><td>3.436961e-06</td><td>8.604335e-07</td><td>2.185836e-07</td><td>3.140522e-07</td><td>2.549261e-06</td><td>3.794525e-06</td></tr>\n\t<tr><th scope=row>annies</th><td>0.000000e+00</td><td>0.000000e+00</td><td>0.000000e+00</td><td>0.000000e+00</td><td>0.000000e+00</td><td>0.000000e+00</td></tr>\n\t<tr><th scope=row>list</th><td>7.623550e-07</td><td>9.159052e-07</td><td>1.208789e-06</td><td>4.505900e-06</td><td>9.750505e-06</td><td>3.731989e-07</td></tr>\n\t<tr><th scope=row>political</th><td>1.606036e-06</td><td>9.896553e-07</td><td>2.387556e-08</td><td>3.422345e-07</td><td>1.326048e-06</td><td>1.707230e-07</td></tr>\n\t<tr><th scope=row>group</th><td>5.375116e-06</td><td>7.795391e-07</td><td>1.571680e-06</td><td>7.759419e-06</td><td>8.465397e-06</td><td>5.037915e-06</td></tr>\n</tbody>\n</table>\n",
      "text/markdown": "\nA data.frame: 6 x 6\n\n| <!--/--> | 0 &lt;dbl&gt; | 1 &lt;dbl&gt; | 2 &lt;dbl&gt; | 3 &lt;dbl&gt; | 4 &lt;dbl&gt; | 5 &lt;dbl&gt; |\n|---|---|---|---|---|---|---|\n| says | 1.154849e-05 | 2.573665e-06 | 6.753102e-07 | 7.517013e-06 | 8.166449e-06 | 1.356008e-05 |\n| the | 3.436961e-06 | 8.604335e-07 | 2.185836e-07 | 3.140522e-07 | 2.549261e-06 | 3.794525e-06 |\n| annies | 0.000000e+00 | 0.000000e+00 | 0.000000e+00 | 0.000000e+00 | 0.000000e+00 | 0.000000e+00 |\n| list | 7.623550e-07 | 9.159052e-07 | 1.208789e-06 | 4.505900e-06 | 9.750505e-06 | 3.731989e-07 |\n| political | 1.606036e-06 | 9.896553e-07 | 2.387556e-08 | 3.422345e-07 | 1.326048e-06 | 1.707230e-07 |\n| group | 5.375116e-06 | 7.795391e-07 | 1.571680e-06 | 7.759419e-06 | 8.465397e-06 | 5.037915e-06 |\n\n",
      "text/latex": "A data.frame: 6 x 6\n\\begin{tabular}{r|llllll}\n  & 0 & 1 & 2 & 3 & 4 & 5\\\\\n  & <dbl> & <dbl> & <dbl> & <dbl> & <dbl> & <dbl>\\\\\n\\hline\n\tsays & 1.154849e-05 & 2.573665e-06 & 6.753102e-07 & 7.517013e-06 & 8.166449e-06 & 1.356008e-05\\\\\n\tthe & 3.436961e-06 & 8.604335e-07 & 2.185836e-07 & 3.140522e-07 & 2.549261e-06 & 3.794525e-06\\\\\n\tannies & 0.000000e+00 & 0.000000e+00 & 0.000000e+00 & 0.000000e+00 & 0.000000e+00 & 0.000000e+00\\\\\n\tlist & 7.623550e-07 & 9.159052e-07 & 1.208789e-06 & 4.505900e-06 & 9.750505e-06 & 3.731989e-07\\\\\n\tpolitical & 1.606036e-06 & 9.896553e-07 & 2.387556e-08 & 3.422345e-07 & 1.326048e-06 & 1.707230e-07\\\\\n\tgroup & 5.375116e-06 & 7.795391e-07 & 1.571680e-06 & 7.759419e-06 & 8.465397e-06 & 5.037915e-06\\\\\n\\end{tabular}\n",
      "text/plain": "          0            1            2            3            4           \nsays      1.154849e-05 2.573665e-06 6.753102e-07 7.517013e-06 8.166449e-06\nthe       3.436961e-06 8.604335e-07 2.185836e-07 3.140522e-07 2.549261e-06\nannies    0.000000e+00 0.000000e+00 0.000000e+00 0.000000e+00 0.000000e+00\nlist      7.623550e-07 9.159052e-07 1.208789e-06 4.505900e-06 9.750505e-06\npolitical 1.606036e-06 9.896553e-07 2.387556e-08 3.422345e-07 1.326048e-06\ngroup     5.375116e-06 7.795391e-07 1.571680e-06 7.759419e-06 8.465397e-06\n          5           \nsays      1.356008e-05\nthe       3.794525e-06\nannies    0.000000e+00\nlist      3.731989e-07\npolitical 1.707230e-07\ngroup     5.037915e-06"
     },
     "metadata": {},
     "output_type": "display_data"
    }
   ],
   "execution_count": 32
  },
  {
   "cell_type": "markdown",
   "source": "### Extracting the MI vocaulary",
   "metadata": {
    "cell_id": "e8aa2ade945140978e1601585dbd34e7",
    "tags": [],
    "deepnote_cell_type": "markdown",
    "deepnote_cell_height": 62
   }
  },
  {
   "cell_type": "code",
   "source": "n <- 2000\nmi_voc <- list()\nmi_vocabulary <- vector()\nfor(i in L) {\n    mi_voc[[i]] <- rownames(mi)[order(mi[,i], decreasing=TRUE)][1:n]\n    mi_vocabulary <- union(mi_vocabulary, rownames(mi)[order(mi[,i], decreasing=TRUE)][1:n])\n}\nlength(mi_vocabulary)",
   "metadata": {
    "cell_id": "aea3b056f6c84cc88d22563ac039440d",
    "tags": [],
    "deepnote_to_be_reexecuted": false,
    "source_hash": "2b38f19f",
    "execution_start": 1656341400265,
    "execution_millis": 3,
    "deepnote_cell_type": "code",
    "deepnote_cell_height": 244.1875,
    "deepnote_output_heights": [
     21.1875,
     611
    ]
   },
   "outputs": [
    {
     "data": {
      "text/html": "6277",
      "text/markdown": "6277",
      "text/latex": "6277",
      "text/plain": "[1] 6277"
     },
     "metadata": {},
     "output_type": "display_data"
    }
   ],
   "execution_count": 119
  },
  {
   "cell_type": "markdown",
   "source": "### Training with the Mutual information vocabulary",
   "metadata": {
    "cell_id": "201af857ba9d44e2bfec62ac003828f4",
    "tags": [],
    "deepnote_cell_type": "markdown",
    "deepnote_cell_height": 62
   }
  },
  {
   "cell_type": "code",
   "source": "multinomNBC.voc.fit <- function(documents, labels, voc) {\n    # documents must be a list\n\n    log.like  <- list()\n\n    # extract vocabulary\n    V <- voc\n    N <- length(documents[[1]])\n    log.prior <- log(table(labels)) - log(N)\n\n    for(l in unique(labels[[1]])) {\n        \n        text <- extract_alnum(documents[labels==l], unique=FALSE)\n        freq <- table(c(text, V))[V]\n        log.like[[as.character(l)]] <- log(freq) - log(sum(freq))\n    }\n\n    return(list(log.likelihood=log.like, log.prior=log.prior, vocabulary=V[order(V)]))\n}",
   "metadata": {
    "cell_id": "398445dcc2c74d30ad7d94f756a4b7c7",
    "tags": [],
    "deepnote_to_be_reexecuted": false,
    "source_hash": "f116103c",
    "execution_start": 1656341404681,
    "execution_millis": 10,
    "deepnote_cell_type": "code",
    "deepnote_cell_height": 405
   },
   "outputs": [],
   "execution_count": 120
  },
  {
   "cell_type": "code",
   "source": "results_voc <- multinomNBC.voc.fit(df[1:nDoc, 2], df[1:nDoc, 1],voc=mi_vocabulary)\npred_voc <- multinomNBC.predict(df[1:1000, 2][[1]], results_voc$log.prior, results_voc$log.likelihood, results_voc$vocabulary)\naccuracy(pred_voc, df[1:1000, 1][[1]])",
   "metadata": {
    "cell_id": "36b2068a239e4c3f844cbaf05b892fb6",
    "tags": [],
    "deepnote_to_be_reexecuted": false,
    "source_hash": "14dc3fb",
    "execution_start": 1656341404693,
    "execution_millis": 2684,
    "deepnote_cell_type": "code",
    "deepnote_cell_height": 154.1875,
    "deepnote_output_heights": [
     21.1875
    ]
   },
   "outputs": [
    {
     "data": {
      "text/html": "0.585",
      "text/markdown": "0.585",
      "text/latex": "0.585",
      "text/plain": "[1] 0.585"
     },
     "metadata": {},
     "output_type": "display_data"
    }
   ],
   "execution_count": 121
  },
  {
   "cell_type": "code",
   "source": "nDoc <- dim(df)[1]\n\n# results_voc <- multinomNBC.fit(df[1:nDoc, 2], df[1:nDoc, 1])\n# pred_voc <- multinomNBC.predict(df[1:1000, 2][[1]], results_voc$log.prior, results_voc$log.likelihood, mi_vocabulary)\n# accuracy(pred_voc, df[1:1000, 1][[1]])",
   "metadata": {
    "cell_id": "555e9b3de692455bad6cdaeed24d0108",
    "tags": [],
    "deepnote_to_be_reexecuted": false,
    "source_hash": "8165ccf7",
    "execution_start": 1656341356060,
    "execution_millis": 19,
    "deepnote_cell_type": "code",
    "deepnote_cell_height": 153,
    "deepnote_output_heights": [
     21.1875
    ]
   },
   "outputs": [],
   "execution_count": 114
  },
  {
   "cell_type": "markdown",
   "source": "#### Test",
   "metadata": {
    "cell_id": "3ed8f49f39ea4a2293b06c81cb2d00d1",
    "tags": [],
    "deepnote_cell_type": "markdown",
    "deepnote_cell_height": 54
   }
  },
  {
   "cell_type": "code",
   "source": "test <- 1000\n\nvoc_train <- multinomNBC.voc.fit(df[1:(nDoc-test), 2], df[1:(nDoc-test), 1], mi_vocabulary)\n\nvoc_pred  <- multinomNBC.predict(df[(nDoc-test+1):nDoc, 2][[1]], voc_train$log.prior, voc_train$log.likelihood, voc_train$vocabulary)\n\naccuracy(voc_pred, df[(nDoc-test+1):nDoc, 1][[1]])",
   "metadata": {
    "cell_id": "44c7eefd7b4c4114b814249371c7e376",
    "tags": [],
    "deepnote_to_be_reexecuted": false,
    "source_hash": "50c5803b",
    "execution_start": 1656341408973,
    "execution_millis": 2722,
    "deepnote_cell_type": "code",
    "deepnote_cell_height": 226.1875,
    "deepnote_output_heights": [
     21.1875
    ]
   },
   "outputs": [
    {
     "data": {
      "text/html": "0.249",
      "text/markdown": "0.249",
      "text/latex": "0.249",
      "text/plain": "[1] 0.249"
     },
     "metadata": {},
     "output_type": "display_data"
    }
   ],
   "execution_count": 122
  },
  {
   "cell_type": "markdown",
   "source": "#### For the training set\nTry different length of the MI vocabulary",
   "metadata": {
    "cell_id": "4196ec6c57a443228e33acd51c966de4",
    "tags": [],
    "deepnote_cell_type": "markdown",
    "deepnote_cell_height": 88.390625
   }
  },
  {
   "cell_type": "code",
   "source": "evaluate::inject_funs(\n  flush.console = function() { base::flush.console(); evaluate::flush_console() },\n  flush = function(con) { base::flush(con); evaluate::flush_console() }\n)\n\nn_perclass <- c(100,250,500,750,1000,1500,2000,2500,3000,4000,5000)\ntrain_accuracy <- vector()\n\nfor (n in n_perclass){\n\n    mi_voc <- list()\n    mi_vocabulary <- vector()\n    for(i in L) {\n        mi_voc[[i]] <- rownames(mi)[order(mi[,i], decreasing=TRUE)][1:n]\n        mi_vocabulary <- union(mi_vocabulary, rownames(mi)[order(mi[,i], decreasing=TRUE)][1:n])\n    }\n    cat(\"The length of the vocabulary is\",length(mi_vocabulary),\"\\n\")\n    \n    results_voc <- multinomNBC.voc.fit(df[1:nDoc, 2], df[1:nDoc, 1],voc=mi_vocabulary)\n    pred_voc <- multinomNBC.predict(df[1:nDoc, 2][[1]], results_voc$log.prior, results_voc$log.likelihood, results_voc$vocabulary)\n    \n    acc <- accuracy(pred_voc, df[1:nDoc, 1][[1]])\n    train_accuracy <- append(train_accuracy, acc)\n    \n    cat(\"The accuracy for n =\",n,\"is\",acc,\"\\n\\n\")\n    flush_console()\n}\n",
   "metadata": {
    "cell_id": "4a5d464c53fa487592e51421407d9e77",
    "tags": [],
    "deepnote_to_be_reexecuted": false,
    "source_hash": "5703f6e7",
    "execution_start": 1656344397405,
    "execution_millis": 232592,
    "deepnote_cell_type": "code",
    "deepnote_cell_height": 1187,
    "deepnote_output_heights": [
     611
    ]
   },
   "outputs": [
    {
     "name": "stdout",
     "text": "The length of the vocabulary is 468 \nThe accuracy for n = 100 is 0.3289512 \n\nThe length of the vocabulary is 1176 \nThe accuracy for n = 250 is 0.4033499 \n\nThe length of the vocabulary is 2260 \nThe accuracy for n = 500 is 0.4728795 \n\nThe length of the vocabulary is 3178 \nThe accuracy for n = 750 is 0.5178693 \n\nThe length of the vocabulary is 4008 \nThe accuracy for n = 1000 is 0.5424092 \n\nThe length of the vocabulary is 5369 \nThe accuracy for n = 1500 is 0.5794138 \n\nThe length of the vocabulary is 6277 \nThe accuracy for n = 2000 is 0.5961632 \n\nThe length of the vocabulary is 6733 \nThe accuracy for n = 2500 is 0.6044405 \n\nThe length of the vocabulary is 7006 \nThe accuracy for n = 3000 is 0.606096 \n\nThe length of the vocabulary is 7168 \nThe accuracy for n = 4000 is 0.6054144 \n\nThe length of the vocabulary is 7483 \nThe accuracy for n = 5000 is 0.607362 \n\n",
     "output_type": "stream"
    }
   ],
   "execution_count": 167
  },
  {
   "cell_type": "markdown",
   "source": "#### For the test set",
   "metadata": {
    "cell_id": "3a0fb8abc7f74e5db361eee71d6aed1a",
    "tags": [],
    "owner_user_id": "5e4dbb80-7137-44c2-8f26-b3d7f6482042",
    "deepnote_cell_type": "markdown",
    "deepnote_cell_height": 54
   }
  },
  {
   "cell_type": "code",
   "source": "evaluate::inject_funs(\n  flush.console = function() { base::flush.console(); evaluate::flush_console() },\n  flush = function(con) { base::flush(con); evaluate::flush_console() }\n)\n\ntest <- 2000\n\ntest_accuracy <- vector()\n\nfor (n in n_perclass){\n\n    mi_voc <- list()\n    mi_vocabulary <- vector()\n    for(i in L) {\n        mi_voc[[i]] <- rownames(mi)[order(mi[,i], decreasing=TRUE)][1:n]\n        mi_vocabulary <- union(mi_vocabulary, rownames(mi)[order(mi[,i], decreasing=TRUE)][1:n])\n    }\n    cat(\"The length of the vocabulary is\",length(mi_vocabulary),\"\\n\")\n    \n    voc_train <- multinomNBC.voc.fit(df[test:nDoc, 2], df[test:nDoc, 1], mi_vocabulary)\n    voc_pred  <- multinomNBC.predict(df[1:test, 2][[1]], voc_train$log.prior, voc_train$log.likelihood, voc_train$vocabulary)\n    \n    acc <- accuracy(voc_pred, df[1:test, 1][[1]])\n    test_accuracy <- append(test_accuracy, acc)\n    \n    cat(\"The accuracy for n =\",n,\"is\",accuracy(voc_pred, df[1:test, 1][[1]]),\"\\n\\n\")\n    flush_console()\n}\n",
   "metadata": {
    "cell_id": "b05162115dc34bbc8ef668e64ab8cb23",
    "tags": [],
    "deepnote_to_be_reexecuted": false,
    "source_hash": "3b620844",
    "execution_start": 1656344630002,
    "execution_millis": 46851,
    "deepnote_cell_type": "code",
    "deepnote_cell_height": 1205
   },
   "outputs": [
    {
     "name": "stdout",
     "text": "The length of the vocabulary is 468 \nThe accuracy for n = 100 is 0.2745 \n\nThe length of the vocabulary is 1176 \nThe accuracy for n = 250 is 0.2865 \n\nThe length of the vocabulary is 2260 \nThe accuracy for n = 500 is 0.282 \n\nThe length of the vocabulary is 3178 \nThe accuracy for n = 750 is 0.281 \n\nThe length of the vocabulary is 4008 \nThe accuracy for n = 1000 is 0.273 \n\nThe length of the vocabulary is 5369 \nThe accuracy for n = 1500 is 0.2515 \n\nThe length of the vocabulary is 6277 \nThe accuracy for n = 2000 is 0.2365 \n\nThe length of the vocabulary is 6733 \nThe accuracy for n = 2500 is 0.2275 \n\nThe length of the vocabulary is 7006 \nThe accuracy for n = 3000 is 0.2235 \n\nThe length of the vocabulary is 7168 \nThe accuracy for n = 4000 is 0.2205 \n\nThe length of the vocabulary is 7483 \nThe accuracy for n = 5000 is 0.226 \n\n",
     "output_type": "stream"
    }
   ],
   "execution_count": 168
  },
  {
   "cell_type": "markdown",
   "source": "Plot the accuracy on the training ad test set with respect to different length of mi vocabulary",
   "metadata": {
    "cell_id": "9d78bf52f4d44b6e9fc53ade23f2acfc",
    "tags": [],
    "deepnote_cell_type": "markdown",
    "deepnote_cell_height": 52.390625
   }
  },
  {
   "cell_type": "code",
   "source": "acc_df <- data.frame(n_perclass, train_accuracy, test_accuracy)\noptions(repr.plot.width=8, repr.plot.height=5)\nplot_acc <- ggplot(data=acc_df)+\n            theme_light() +\n            geom_line(aes(x=n_perclass, y=train_accuracy, color=\"train\")) +\n            geom_line(aes(x=n_perclass, y=test_accuracy,  color=\"test\"))  +\n            geom_point(aes(x=n_perclass, y=train_accuracy, color=\"train\"),size=1) +\n            geom_point(aes(x=n_perclass, y=test_accuracy,  color=\"test\"),size=1) +\n            labs(x=\"n per class\", y=\"Accuracy\", title=\"Accuracy on training and test set\")+\n            theme(plot.title = element_text(hjust = 0.5),text = element_text(size=10),legend.position=c(.9,.75))+\n            scale_color_manual(name = \"Accuracy\", values = c(\"train\" = \"steelblue\", \"test\" = \"green3\"))\nplot_acc\n\nggsave(\"NaiveBayesMNC/Accuracy_plot.pdf\",plot_acc,width = 10, height = 6)",
   "metadata": {
    "cell_id": "21b426e068e2482aa8439ba2d7d9853e",
    "tags": [],
    "deepnote_to_be_reexecuted": false,
    "source_hash": "65c5519",
    "execution_start": 1656345166156,
    "execution_millis": 502,
    "deepnote_cell_type": "code",
    "deepnote_cell_height": 933,
    "deepnote_output_heights": [
     602,
     611
    ]
   },
   "outputs": [
    {
     "data": {
      "text/plain": "plot without title",
      "image/png": "[encoded data removed]"
     },
     "metadata": {
      "image/png": {
       "width": 960,
       "height": 600
      }
     },
     "output_type": "display_data"
    }
   ],
   "execution_count": 186
  },
  {
   "cell_type": "markdown",
   "source": "## A fantastic plot",
   "metadata": {
    "cell_id": "c328bce5c4014cb9978012dfef7c3101",
    "tags": [],
    "owner_user_id": "3d2efacf-d214-4c9a-b09a-aad0ae30632c",
    "deepnote_cell_type": "markdown",
    "deepnote_cell_height": 70
   }
  },
  {
   "cell_type": "code",
   "metadata": {
    "cell_id": "f5f713303c7d4dce8775099c07a37b00",
    "tags": [],
    "deepnote_to_be_reexecuted": false,
    "source_hash": "f1ac97c",
    "execution_start": 1656340268368,
    "execution_millis": 74005,
    "deepnote_cell_type": "code",
    "deepnote_cell_height": 297,
    "deepnote_output_heights": [
     21.1875
    ]
   },
   "source": "freqs <- c(0, 10, 20, 30)#, 40, 50, 60, 70, 80, 90)\nfilters <- c(0, 1, 2, 3)#, 4, 5, 6, 7, 8, 9)\nnDoc=dim(df)[1]\ndata <- matrix(ncol=length(freqs), nrow=length(filters))\nrownames(data) <- filters\ncolnames(data) <- freqs\nfor(freq_n in freqs) {\n    for(filter_n in filters) {\n        results   <- multinomNBC.fit(df[1:nDoc, 2], df[1:nDoc, 1], filter_n = filter_n, freq_n = freq_n)\n        pred <- multinomNBC.predict(df[1:nDoc, 2][[1]], results$log.prior, results$log.likelihood, results$vocabulary)\n        data[as.character(filter_n), as.character(freq_n)] <- accuracy(pred, df[1:nDoc, 1][[1]])\n    }\n}",
   "execution_count": null,
   "outputs": []
  },
  {
   "cell_type": "code",
   "metadata": {
    "cell_id": "ac6454a19ccc46cab553ef92875b4063",
    "tags": [],
    "deepnote_to_be_reexecuted": false,
    "source_hash": "214f63c4",
    "execution_start": 1656340286637,
    "execution_millis": 1,
    "deepnote_cell_type": "code",
    "deepnote_cell_height": 99,
    "deepnote_output_heights": [
     567
    ]
   },
   "source": "# df_plt <- as.data.frame(data) %>% mutate(., filters=rownames(.)) %>% pivot_longer(., cols=colnames(.)[colnames(.)!='filters'], names_to='freqs', values_to='acc')\n# df_plt",
   "execution_count": 39,
   "outputs": []
  },
  {
   "cell_type": "code",
   "metadata": {
    "cell_id": "c14e7bed08ad46c58b39ade852697dd3",
    "tags": [],
    "deepnote_to_be_reexecuted": false,
    "source_hash": "5b769585",
    "execution_start": 1656340289618,
    "execution_millis": 1,
    "deepnote_cell_type": "code",
    "deepnote_cell_height": 99,
    "deepnote_output_heights": [
     611
    ]
   },
   "source": "# ggplot(df_plt, aes(x=filters, y=freqs)) +\n# geom_raster(aes(fill=acc))",
   "execution_count": 40,
   "outputs": []
  },
  {
   "cell_type": "code",
   "metadata": {
    "cell_id": "563124a659d740ef99f58c0538c3f482",
    "tags": [],
    "deepnote_to_be_reexecuted": false,
    "source_hash": "b623e53d",
    "execution_start": 1656340292605,
    "execution_millis": 3,
    "deepnote_cell_type": "code",
    "deepnote_cell_height": 81
   },
   "source": "",
   "execution_count": 41,
   "outputs": []
  },
  {
   "cell_type": "code",
   "source": "",
   "metadata": {
    "cell_id": "a8fa9383ed4f4d59b6b28132a62be63c",
    "tags": [],
    "deepnote_cell_type": "code",
    "deepnote_cell_height": 66
   },
   "outputs": [],
   "execution_count": null
  },
  {
   "cell_type": "markdown",
   "source": "<a style='text-decoration:none;line-height:16px;display:flex;color:#5B5B62;padding:10px;justify-content:end;' href='https://deepnote.com?utm_source=created-in-deepnote-cell&projectId=811d2f44-4ec2-4c23-800a-72ed1acf812e' target=\"_blank\">\n<img alt='Created in deepnote.com' style='display:inline;max-height:16px;margin:0px;margin-right:7.5px;' src='data:image/svg+xml;base64,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' > </img>\nCreated in <span style='font-weight:600;margin-left:4px;'>Deepnote</span></a>",
   "metadata": {
    "tags": [],
    "created_in_deepnote_cell": true,
    "deepnote_cell_type": "markdown"
   }
  }
 ],
 "nbformat": 4,
 "nbformat_minor": 2,
 "metadata": {
  "deepnote": {},
  "deepnote_execution_queue": [],
  "deepnote_notebook_id": "aa832509-5524-45ee-b404-b93d37fa8ca4",
  "kernelspec": {
   "display_name": "R",
   "language": "R",
   "name": "ir"
  },
  "language_info": {
   "codemirror_mode": "r",
   "file_extension": ".r",
   "mimetype": "text/x-r-source",
   "name": "R",
   "pygments_lexer": "r",
   "version": "4.1.3"
  },
  "orig_nbformat": 2,
  "vscode": {
   "interpreter": {
    "hash": "23a13e7eb16f51d2e77358f512f3c050846c788611a3aaccf5f7e8bef10b9e37"
   }
  }
 }
}