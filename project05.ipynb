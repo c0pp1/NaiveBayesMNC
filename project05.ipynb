{
 "cells": [
  {
   "cell_type": "markdown",
   "metadata": {
    "tags": [],
    "cell_id": "6eb6f151-42ed-4d94-8d45-c7dfdf37d36b",
    "deepnote_to_be_reexecuted": false,
    "source_hash": "66d083ce",
    "execution_start": 1656085400018,
    "execution_millis": 0,
    "deepnote_cell_type": "markdown",
    "deepnote_cell_height": 306.796875
   },
   "source": "# Naive Bayes classifier for Fake News recognition\nFake news are defined by the New York Times as \"a made-up story with an intention to deceive\", with\nthe intent to confuse or deceive people. They are everywhere in our daily life, and come especially from\nsocial media platforms and applications in the online world. Being able to distinguish fake contents form\nreal news is today one of the most serious challenges facing the news industry.  \n[Naive Bayes classifiers][1] are powerful algorithms that are used for text data analysis and are connected\nto classification tasks of text in multiple classes.\nThe goal of the project is to implement a __Multinomial Naive Bayes classifier__ in `R` and test its perfor-\nmances in the classification of social media posts.\nThe suggested data set is available on [Kaggle][2]\n\n[1]: https://nlp.stanford.edu/IR-book/pdf/13bayes.pdf \"C. D. Manning, Chapter 13, Text Classification and Naive Bayes, in Introduction to Information Retrieval, Cambridge University Press, 2008.\"\n[2]: https://www.kaggle.com/datasets/anmolkumar/fake-news-content-detection?select=train.csv",
   "execution_count": 2
  },
  {
   "cell_type": "markdown",
   "source": "## Import useful libraries",
   "metadata": {
    "cell_id": "b7bbc4c407f14e33bdc2783a4db757a9",
    "tags": [],
    "deepnote_cell_type": "markdown",
    "deepnote_cell_height": 70
   }
  },
  {
   "cell_type": "code",
   "source": "library(tidyverse)",
   "metadata": {
    "cell_id": "e65a712e7da74894ac221d5c9b477c43",
    "tags": [],
    "deepnote_to_be_reexecuted": false,
    "source_hash": "13bcac4e",
    "execution_start": 1656087010697,
    "execution_millis": 1686,
    "deepnote_cell_type": "code",
    "deepnote_cell_height": 312
   },
   "outputs": [
    {
     "name": "stderr",
     "text": "── \u001b[1mAttaching packages\u001b[22m ─────────────────────────────────────── tidyverse 1.3.1 ──\n\n\u001b[32m✔\u001b[39m \u001b[34mggplot2\u001b[39m 3.3.6     \u001b[32m✔\u001b[39m \u001b[34mpurrr  \u001b[39m 0.3.4\n\u001b[32m✔\u001b[39m \u001b[34mtibble \u001b[39m 3.1.7     \u001b[32m✔\u001b[39m \u001b[34mdplyr  \u001b[39m 1.0.9\n\u001b[32m✔\u001b[39m \u001b[34mtidyr  \u001b[39m 1.2.0     \u001b[32m✔\u001b[39m \u001b[34mstringr\u001b[39m 1.4.0\n\u001b[32m✔\u001b[39m \u001b[34mreadr  \u001b[39m 2.1.2     \u001b[32m✔\u001b[39m \u001b[34mforcats\u001b[39m 0.5.1\n\n── \u001b[1mConflicts\u001b[22m ────────────────────────────────────────── tidyverse_conflicts() ──\n\u001b[31m✖\u001b[39m \u001b[34mdplyr\u001b[39m::\u001b[32mfilter()\u001b[39m masks \u001b[34mstats\u001b[39m::filter()\n\u001b[31m✖\u001b[39m \u001b[34mdplyr\u001b[39m::\u001b[32mlag()\u001b[39m    masks \u001b[34mstats\u001b[39m::lag()\n\n",
     "output_type": "stream"
    }
   ],
   "execution_count": 1
  },
  {
   "cell_type": "markdown",
   "source": "## Import dataset",
   "metadata": {
    "cell_id": "3eb237f3f64842e4b4912cd338f628b8",
    "tags": [],
    "deepnote_cell_type": "markdown",
    "deepnote_cell_height": 70
   }
  },
  {
   "cell_type": "code",
   "source": "df <- read_csv('NaiveBayesMNC/train.csv', col_types = 'icc')\nhead(df, 10)",
   "metadata": {
    "cell_id": "cf90085d26784ed38c84996918ba9a9d",
    "tags": [],
    "deepnote_to_be_reexecuted": false,
    "source_hash": "ab2be735",
    "execution_start": 1656087014590,
    "execution_millis": 312,
    "deepnote_cell_type": "code",
    "deepnote_cell_height": 508,
    "deepnote_output_heights": [
     393,
     277
    ]
   },
   "outputs": [
    {
     "data": {
      "text/html": "<table class=\"dataframe\">\n<caption>A tibble: 10 x 3</caption>\n<thead>\n\t<tr><th scope=col>Labels</th><th scope=col>Text</th><th scope=col>Text_Tag</th></tr>\n\t<tr><th scope=col>&lt;int&gt;</th><th scope=col>&lt;chr&gt;</th><th scope=col>&lt;chr&gt;</th></tr>\n</thead>\n<tbody>\n\t<tr><td>1</td><td>Says the Annies List political group supports third-trimester abortions on demand.                                                                             </td><td>abortion                                 </td></tr>\n\t<tr><td>2</td><td>When did the decline of coal start? It started when natural gas took off that started to begin in (President George W.) Bushs administration.                  </td><td>energy,history,job-accomplishments       </td></tr>\n\t<tr><td>3</td><td>Hillary Clinton agrees with John McCain \"by voting to give George Bush the benefit of the doubt on Iran.\"                                                      </td><td>foreign-policy                           </td></tr>\n\t<tr><td>1</td><td>Health care reform legislation is likely to mandate free sex change surgeries.                                                                                 </td><td>health-care                              </td></tr>\n\t<tr><td>2</td><td>The economic turnaround started at the end of my term.                                                                                                         </td><td>economy,jobs                             </td></tr>\n\t<tr><td>5</td><td>The Chicago Bears have had more starting quarterbacks in the last 10 years than the total number of tenured (UW) faculty fired during the last two decades.    </td><td>education                                </td></tr>\n\t<tr><td>0</td><td>Jim Dunnam has not lived in the district he represents for years now.                                                                                          </td><td>candidates-biography                     </td></tr>\n\t<tr><td>2</td><td>I'm the only person on this stage who has worked actively just last year passing, along with Russ Feingold, some of the toughest ethics reform since Watergate.</td><td>ethics                                   </td></tr>\n\t<tr><td>2</td><td>However, it took $19.5 million in Oregon Lottery funds for the Port of Newport to eventually land the new NOAA Marine Operations Center-Pacific.               </td><td>jobs                                     </td></tr>\n\t<tr><td>3</td><td>Says GOP primary opponents Glenn Grothman and Joe Leibham cast a compromise vote that cost $788 million in higher electricity costs.                           </td><td>energy,message-machine-2014,voting-record</td></tr>\n</tbody>\n</table>\n",
      "text/markdown": "\nA tibble: 10 x 3\n\n| Labels &lt;int&gt; | Text &lt;chr&gt; | Text_Tag &lt;chr&gt; |\n|---|---|---|\n| 1 | Says the Annies List political group supports third-trimester abortions on demand.                                                                              | abortion                                  |\n| 2 | When did the decline of coal start? It started when natural gas took off that started to begin in (President George W.) Bushs administration.                   | energy,history,job-accomplishments        |\n| 3 | Hillary Clinton agrees with John McCain \"by voting to give George Bush the benefit of the doubt on Iran.\"                                                       | foreign-policy                            |\n| 1 | Health care reform legislation is likely to mandate free sex change surgeries.                                                                                  | health-care                               |\n| 2 | The economic turnaround started at the end of my term.                                                                                                          | economy,jobs                              |\n| 5 | The Chicago Bears have had more starting quarterbacks in the last 10 years than the total number of tenured (UW) faculty fired during the last two decades.     | education                                 |\n| 0 | Jim Dunnam has not lived in the district he represents for years now.                                                                                           | candidates-biography                      |\n| 2 | I'm the only person on this stage who has worked actively just last year passing, along with Russ Feingold, some of the toughest ethics reform since Watergate. | ethics                                    |\n| 2 | However, it took $19.5 million in Oregon Lottery funds for the Port of Newport to eventually land the new NOAA Marine Operations Center-Pacific.                | jobs                                      |\n| 3 | Says GOP primary opponents Glenn Grothman and Joe Leibham cast a compromise vote that cost $788 million in higher electricity costs.                            | energy,message-machine-2014,voting-record |\n\n",
      "text/latex": "A tibble: 10 x 3\n\\begin{tabular}{lll}\n Labels & Text & Text\\_Tag\\\\\n <int> & <chr> & <chr>\\\\\n\\hline\n\t 1 & Says the Annies List political group supports third-trimester abortions on demand.                                                                              & abortion                                 \\\\\n\t 2 & When did the decline of coal start? It started when natural gas took off that started to begin in (President George W.) Bushs administration.                   & energy,history,job-accomplishments       \\\\\n\t 3 & Hillary Clinton agrees with John McCain \"by voting to give George Bush the benefit of the doubt on Iran.\"                                                       & foreign-policy                           \\\\\n\t 1 & Health care reform legislation is likely to mandate free sex change surgeries.                                                                                  & health-care                              \\\\\n\t 2 & The economic turnaround started at the end of my term.                                                                                                          & economy,jobs                             \\\\\n\t 5 & The Chicago Bears have had more starting quarterbacks in the last 10 years than the total number of tenured (UW) faculty fired during the last two decades.     & education                                \\\\\n\t 0 & Jim Dunnam has not lived in the district he represents for years now.                                                                                           & candidates-biography                     \\\\\n\t 2 & I'm the only person on this stage who has worked actively just last year passing, along with Russ Feingold, some of the toughest ethics reform since Watergate. & ethics                                   \\\\\n\t 2 & However, it took \\$19.5 million in Oregon Lottery funds for the Port of Newport to eventually land the new NOAA Marine Operations Center-Pacific.                & jobs                                     \\\\\n\t 3 & Says GOP primary opponents Glenn Grothman and Joe Leibham cast a compromise vote that cost \\$788 million in higher electricity costs.                            & energy,message-machine-2014,voting-record\\\\\n\\end{tabular}\n",
      "text/plain": "   Labels\n1  1     \n2  2     \n3  3     \n4  1     \n5  2     \n6  5     \n7  0     \n8  2     \n9  2     \n10 3     \n   Text                                                                                                                                                           \n1  Says the Annies List political group supports third-trimester abortions on demand.                                                                             \n2  When did the decline of coal start? It started when natural gas took off that started to begin in (President George W.) Bushs administration.                  \n3  Hillary Clinton agrees with John McCain \"by voting to give George Bush the benefit of the doubt on Iran.\"                                                      \n4  Health care reform legislation is likely to mandate free sex change surgeries.                                                                                 \n5  The economic turnaround started at the end of my term.                                                                                                         \n6  The Chicago Bears have had more starting quarterbacks in the last 10 years than the total number of tenured (UW) faculty fired during the last two decades.    \n7  Jim Dunnam has not lived in the district he represents for years now.                                                                                          \n8  I'm the only person on this stage who has worked actively just last year passing, along with Russ Feingold, some of the toughest ethics reform since Watergate.\n9  However, it took $19.5 million in Oregon Lottery funds for the Port of Newport to eventually land the new NOAA Marine Operations Center-Pacific.               \n10 Says GOP primary opponents Glenn Grothman and Joe Leibham cast a compromise vote that cost $788 million in higher electricity costs.                           \n   Text_Tag                                 \n1  abortion                                 \n2  energy,history,job-accomplishments       \n3  foreign-policy                           \n4  health-care                              \n5  economy,jobs                             \n6  education                                \n7  candidates-biography                     \n8  ethics                                   \n9  jobs                                     \n10 energy,message-machine-2014,voting-record"
     },
     "metadata": {},
     "output_type": "display_data"
    }
   ],
   "execution_count": 2
  },
  {
   "cell_type": "markdown",
   "source": "## Multinomial NB classifier implementation",
   "metadata": {
    "cell_id": "fe175de47af84c4ebf45848a752f63f9",
    "tags": [],
    "deepnote_cell_type": "markdown",
    "deepnote_cell_height": 122
   }
  },
  {
   "cell_type": "code",
   "source": "",
   "metadata": {
    "cell_id": "a8ac7189a1844baab5d6b29de32aa7ce",
    "tags": [],
    "owner_user_id": "3d2efacf-d214-4c9a-b09a-aad0ae30632c",
    "deepnote_cell_type": "code",
    "deepnote_cell_height": 66
   },
   "outputs": [],
   "execution_count": null
  },
  {
   "cell_type": "markdown",
   "source": "<a style='text-decoration:none;line-height:16px;display:flex;color:#5B5B62;padding:10px;justify-content:end;' href='https://deepnote.com?utm_source=created-in-deepnote-cell&projectId=811d2f44-4ec2-4c23-800a-72ed1acf812e' target=\"_blank\">\n<img alt='Created in deepnote.com' style='display:inline;max-height:16px;margin:0px;margin-right:7.5px;' src='data:image/svg+xml;base64,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' > </img>\nCreated in <span style='font-weight:600;margin-left:4px;'>Deepnote</span></a>",
   "metadata": {
    "tags": [],
    "created_in_deepnote_cell": true,
    "deepnote_cell_type": "markdown"
   }
  }
 ],
 "nbformat": 4,
 "nbformat_minor": 2,
 "metadata": {
  "orig_nbformat": 2,
  "deepnote": {},
  "deepnote_notebook_id": "aa832509-5524-45ee-b404-b93d37fa8ca4",
  "deepnote_execution_queue": []
 }
}